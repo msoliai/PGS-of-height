{
 "cells": [
  {
   "cell_type": "markdown",
   "id": "cde1d39f-85e4-4f12-b363-4a135d2edd2b",
   "metadata": {},
   "source": [
    "# Polygenic Risk Score Analysis of Height"
   ]
  },
  {
   "cell_type": "markdown",
   "id": "0b5fcc0c-e8e3-4a17-9554-0b1978b7d478",
   "metadata": {},
   "source": [
    "This notebook shows a step-by-step polygenic risk score (PRS) analyses. My aim is to showcase common PRS methodologies and their application in real-world scenarios.\n",
    "\n",
    "The notebook is structured into four main sections, aligned with the analysis process:\n",
    "\n",
    "1. Quality Control (QC) of Base Data\n",
    "2. Quality Control (QC) of Target Data\n",
    "3. PRS Calculation and Analysis\n",
    "4. Visualization of PRS Results\n",
    "\n",
    "Each section demonstrates a crucial aspect of PRS analysis, covering data quality control procedures, PRS computation using popular tools such as PLINK, PRSice-2, LDpred-2, and lassosum, and visualization techniques for interpreting PRS outcomes."
   ]
  },
  {
   "cell_type": "markdown",
   "id": "7bcef016-35cb-48ad-8380-bc38c0e7c78f",
   "metadata": {
    "jp-MarkdownHeadingCollapsed": true
   },
   "source": [
    "## Table of Contents"
   ]
  },
  {
   "cell_type": "markdown",
   "id": "58bcc78d-2d83-4c0c-b443-7aac61196e9c",
   "metadata": {},
   "source": [
    "1. [Introduction](#Intro)\n",
    "2. [Set Project Root](#Root)\n",
    "3. [Environment Setup](#Environment)\n",
    "4. [Load R Libraries](#Libraries)\n",
    "6. [QC of Base Data](#Base)\n",
    "7. [QC of Target Data](#Target)\n",
    "8. [PRS Calculation and Analysis](#PRS)\n",
    "9. [Visualization of PRS Results](#Visualization)"
   ]
  },
  {
   "cell_type": "markdown",
   "id": "17ad22bf-0c07-4a78-8e73-d50c62fde6eb",
   "metadata": {
    "jp-MarkdownHeadingCollapsed": true
   },
   "source": [
    "<a id=\"Intro\"></a>\n",
    "## 1. Introduction"
   ]
  },
  {
   "cell_type": "markdown",
   "id": "264537ac-c11a-4d9a-80f0-2e963d3222db",
   "metadata": {},
   "source": [
    "Polygenic risk scores (PRS) are used to estimate the genetic predisposition of an individual to a particular trait or disease. This notebook will demonstrate the typical steps required to calculate PRS.\n",
    "\n",
    "The purpose of calculating PRSs in the context of target identification is to potentially identify a subpopulation of patients to treat for a given indication; a gene target may only be relevant for a specific subpopulation of patients which may not be entirely distinguishable from an all-inclusive GWAS."
   ]
  },
  {
   "cell_type": "markdown",
   "id": "a384cb19-d416-4039-bee0-653ec9d20670",
   "metadata": {},
   "source": [
    "<a id=\"Root\"></a>\n",
    "## 2. Set the Project Root"
   ]
  },
  {
   "cell_type": "code",
   "execution_count": 1,
   "id": "d337d348-c303-4ac4-8639-fa8681154574",
   "metadata": {},
   "outputs": [
    {
     "name": "stderr",
     "output_type": "stream",
     "text": [
      "here() starts at /Users/msoliai/Documents/test/PGS-of-height\n",
      "\n"
     ]
    },
    {
     "name": "stdout",
     "output_type": "stream",
     "text": [
      "[1] \"Project root is set to: /Users/msoliai/Documents/test/PGS-of-height\"\n"
     ]
    }
   ],
   "source": [
    "# Verify the Project Root is set to prs_humans\n",
    "setwd('..')\n",
    "library(here)\n",
    "project_root <- here::here()\n",
    "print(paste(\"Project root is set to:\", project_root))"
   ]
  },
  {
   "cell_type": "code",
   "execution_count": 2,
   "id": "665ce4b7-04df-4746-973d-f58f63eb9326",
   "metadata": {},
   "outputs": [],
   "source": [
    "# Set the seed\n",
    "set.seed(123)"
   ]
  },
  {
   "cell_type": "markdown",
   "id": "f169f287-a9ce-47ff-96ee-fd17eb55f5b5",
   "metadata": {},
   "source": [
    "<a id=\"Environment\"></a>\n",
    "## 3. Environment Setup"
   ]
  },
  {
   "cell_type": "code",
   "execution_count": 3,
   "id": "25aba2f1-8718-40ab-abc7-a632d12280bd",
   "metadata": {},
   "outputs": [
    {
     "name": "stdout",
     "output_type": "stream",
     "text": [
      "- One or more packages recorded in the lockfile are not installed.\n",
      "- Use `renv::status()` for more details.\n",
      "The following package(s) will be updated:\n",
      "\n",
      "# CRAN -----------------------------------------------------------------------\n",
      "- askpass         [* -> 1.2.0]\n",
      "- base64enc       [* -> 0.1-3]\n",
      "- BH              [* -> 1.84.0-0]\n",
      "- bigassertr      [* -> 0.1.6]\n",
      "- bigparallelr    [* -> 0.3.2]\n",
      "- bigreadr        [* -> 0.2.5]\n",
      "- bigsnpr         [* -> 1.12.2]\n",
      "- bigsparser      [* -> 0.6.1]\n",
      "- bigstatsr       [* -> 1.5.12]\n",
      "- bigutilsr       [* -> 0.3.4]\n",
      "- bit             [* -> 4.0.5]\n",
      "- cli             [* -> 3.6.2]\n",
      "- colorspace      [* -> 2.1-0]\n",
      "- cowplot         [* -> 1.1.3]\n",
      "- crayon          [* -> 1.5.2]\n",
      "- curl            [* -> 5.2.1]\n",
      "- data.table      [* -> 1.15.4]\n",
      "- DEoptimR        [* -> 1.1-3]\n",
      "- digest          [* -> 0.6.35]\n",
      "- doParallel      [* -> 1.0.17]\n",
      "- doRNG           [* -> 1.8.6]\n",
      "- evaluate        [* -> 0.23]\n",
      "- fansi           [* -> 1.0.6]\n",
      "- farver          [* -> 2.1.2]\n",
      "- fastmap         [* -> 1.2.0]\n",
      "- ff              [* -> 4.0.12]\n",
      "- flock           [* -> 0.7]\n",
      "- foreach         [* -> 1.5.2]\n",
      "- fs              [* -> 1.6.4]\n",
      "- gargle          [* -> 1.5.2]\n",
      "- ggplot2         [* -> 3.5.1]\n",
      "- glue            [* -> 1.7.0]\n",
      "- googledrive     [* -> 2.1.1]\n",
      "- gtable          [* -> 0.3.5]\n",
      "- here            [* -> 1.0.1]\n",
      "- htmltools       [* -> 0.5.8.1]\n",
      "- httr            [* -> 1.4.7]\n",
      "- IRdisplay       [* -> 1.1]\n",
      "- IRkernel        [* -> 1.3.2]\n",
      "- isoband         [* -> 0.2.7]\n",
      "- iterators       [* -> 1.0.14]\n",
      "- jsonlite        [* -> 1.8.8]\n",
      "- labeling        [* -> 0.4.3]\n",
      "- lifecycle       [* -> 1.0.4]\n",
      "- magrittr        [* -> 2.0.3]\n",
      "- mime            [* -> 0.12]\n",
      "- munsell         [* -> 0.5.1]\n",
      "- nabor           [* -> 0.5.0]\n",
      "- openssl         [* -> 2.2.0]\n",
      "- parallelly      [* -> 1.37.1]\n",
      "- pbdZMQ          [* -> 0.3-11]\n",
      "- pillar          [* -> 1.9.0]\n",
      "- pkgconfig       [* -> 2.0.3]\n",
      "- ps              [* -> 1.7.6]\n",
      "- purrr           [* -> 1.0.2]\n",
      "- R6              [* -> 2.5.1]\n",
      "- rappdirs        [* -> 0.3.3]\n",
      "- RColorBrewer    [* -> 1.1-3]\n",
      "- Rcpp            [* -> 1.0.12]\n",
      "- RcppArmadillo   [* -> 0.12.8.3.0]\n",
      "- RcppEigen       [* -> 0.3.4.0.0]\n",
      "- repr            [* -> 1.1.7]\n",
      "- RhpcBLASctl     [* -> 0.23-42]\n",
      "- rlang           [* -> 1.1.3]\n",
      "- rmio            [* -> 0.4.0]\n",
      "- rngtools        [* -> 1.5.2]\n",
      "- robustbase      [* -> 0.99-2]\n",
      "- roptim          [* -> 0.1.6]\n",
      "- rprojroot       [* -> 2.0.4]\n",
      "- RSpectra        [* -> 0.16-1]\n",
      "- runonce         [* -> 0.2.3]\n",
      "- scales          [* -> 1.3.0]\n",
      "- sys             [* -> 3.4.2]\n",
      "- tibble          [* -> 3.2.1]\n",
      "- triebeard       [* -> 0.4.1]\n",
      "- urltools        [* -> 1.7.3]\n",
      "- utf8            [* -> 1.2.4]\n",
      "- uuid            [* -> 1.2-0]\n",
      "- vctrs           [* -> 0.6.5]\n",
      "- viridisLite     [* -> 0.4.2]\n",
      "- withr           [* -> 3.0.0]\n",
      "\n",
      "# Installing packages --------------------------------------------------------\n",
      "- Installing BH ...                             OK [linked from cache]\n",
      "- Installing DEoptimR ...                       OK [linked from cache]\n",
      "- Installing base64enc ...                      OK [linked from cache]\n",
      "- Installing digest ...                         OK [linked from cache]\n",
      "- Installing fastmap ...                        OK [linked from cache]\n",
      "- Installing rlang ...                          OK [linked from cache]\n",
      "- Installing htmltools ...                      OK [linked from cache]\n",
      "- Installing jsonlite ...                       OK [linked from cache]\n",
      "- Installing cli ...                            OK [linked from cache]\n",
      "- Installing fansi ...                          OK [linked from cache]\n",
      "- Installing glue ...                           OK [linked from cache]\n",
      "- Installing lifecycle ...                      OK [linked from cache]\n",
      "- Installing utf8 ...                           OK [linked from cache]\n",
      "- Installing vctrs ...                          OK [linked from cache]\n",
      "- Installing pillar ...                         OK [linked from cache]\n",
      "- Installing repr ...                           OK [linked from cache]\n",
      "- Installing IRdisplay ...                      OK [linked from cache]\n",
      "- Installing evaluate ...                       OK [linked from cache]\n",
      "- Installing pbdZMQ ...                         OK [linked from cache]\n",
      "- Installing crayon ...                         OK [linked from cache]\n",
      "- Installing uuid ...                           OK [linked from cache]\n",
      "- Installing IRkernel ...                       OK [linked from cache]\n",
      "- Installing R6 ...                             OK [linked from cache]\n",
      "- Installing RColorBrewer ...                   OK [linked from cache]\n",
      "- Installing Rcpp ...                           OK [linked from cache]\n",
      "- Installing RcppEigen ...                      OK [linked from cache]\n",
      "- Installing RSpectra ...                       OK [linked from cache]\n",
      "- Installing RcppArmadillo ...                  OK [linked from cache]\n",
      "- Installing RhpcBLASctl ...                    OK [linked from cache]\n",
      "- Installing sys ...                            OK [linked from cache]\n",
      "- Installing askpass ...                        OK [linked from cache]\n",
      "- Installing bigassertr ...                     OK [linked from cache]\n",
      "- Installing iterators ...                      OK [linked from cache]\n",
      "- Installing foreach ...                        OK [linked from cache]\n",
      "- Installing doParallel ...                     OK [linked from cache]\n",
      "- Installing flock ...                          OK [linked from cache]\n",
      "- Installing parallelly ...                     OK [linked from cache]\n",
      "- Installing bigparallelr ...                   OK [linked from cache]\n",
      "- Installing data.table ...                     OK [linked from cache]\n",
      "- Installing bigreadr ...                       OK [linked from cache]\n",
      "- Installing bit ...                            OK [linked from cache]\n",
      "- Installing ff ...                             OK [linked from cache]\n",
      "- Installing rmio ...                           OK [linked from cache]\n",
      "- Installing bigsparser ...                     OK [linked from cache]\n",
      "- Installing nabor ...                          OK [linked from cache]\n",
      "- Installing robustbase ...                     OK [linked from cache]\n",
      "- Installing bigutilsr ...                      OK [linked from cache]\n",
      "- Installing rngtools ...                       OK [linked from cache]\n",
      "- Installing doRNG ...                          OK [linked from cache]\n",
      "- Installing gtable ...                         OK [linked from cache]\n",
      "- Installing isoband ...                        OK [linked from cache]\n",
      "- Installing farver ...                         OK [linked from cache]\n",
      "- Installing labeling ...                       OK [linked from cache]\n",
      "- Installing colorspace ...                     OK [linked from cache]\n",
      "- Installing munsell ...                        OK [linked from cache]\n",
      "- Installing viridisLite ...                    OK [linked from cache]\n",
      "- Installing scales ...                         OK [linked from cache]\n",
      "- Installing magrittr ...                       OK [linked from cache]\n",
      "- Installing pkgconfig ...                      OK [linked from cache]\n",
      "- Installing tibble ...                         OK [linked from cache]\n",
      "- Installing withr ...                          OK [linked from cache]\n",
      "- Installing ggplot2 ...                        OK [linked from cache]\n",
      "- Installing triebeard ...                      OK [linked from cache]\n",
      "- Installing urltools ...                       OK [linked from cache]\n",
      "- Installing runonce ...                        OK [linked from cache]\n",
      "- Installing cowplot ...                        OK [linked from cache]\n",
      "- Installing ps ...                             OK [linked from cache]\n",
      "- Installing bigstatsr ...                      OK [linked from cache]\n",
      "- Installing roptim ...                         OK [linked from cache]\n",
      "- Installing bigsnpr ...                        OK [linked from cache]\n",
      "- Installing curl ...                           OK [linked from cache]\n",
      "- Installing fs ...                             OK [linked from cache]\n",
      "- Installing mime ...                           OK [linked from cache]\n",
      "- Installing openssl ...                        OK [linked from cache]\n",
      "- Installing httr ...                           OK [linked from cache]\n",
      "- Installing rappdirs ...                       OK [linked from cache]\n",
      "- Installing gargle ...                         OK [linked from cache]\n",
      "- Installing purrr ...                          OK [linked from cache]\n",
      "- Installing googledrive ...                    OK [linked from cache]\n",
      "- Installing rprojroot ...                      OK [linked from cache]\n",
      "- Installing here ...                           OK [linked from cache]\n",
      "\n",
      "The following loaded package(s) have been updated:\n",
      "- fastmap\n",
      "Restart your R session to use the new versions.\n",
      "\n"
     ]
    }
   ],
   "source": [
    "# Ensure that the Project Root directory is set to 'prs_humans'\n",
    "# Install and initialize renv if not already installed\n",
    "if (!requireNamespace(\"renv\", quietly = TRUE)) {\n",
    "    install.packages(\"renv\")\n",
    "}\n",
    "\n",
    "# Initialize renv and restore environment\n",
    "# Note: You'll be told that there is one or more packages recorded in the lockfile that was not installed. \n",
    "# This is because lassosum will need to be 'manually' installed. I wrote a script to do this for you in the\n",
    "# lassosum section.\n",
    "renv::init(bare = TRUE)\n",
    "renv::restore()"
   ]
  },
  {
   "cell_type": "markdown",
   "id": "8926d93d-4871-4ae1-87a1-0f14e2c35a58",
   "metadata": {},
   "source": [
    "### Important: Restart R Session"
   ]
  },
  {
   "cell_type": "markdown",
   "id": "27fb46fd-3522-4196-aad9-91f9545cca38",
   "metadata": {},
   "source": [
    "Please restart your R session to use the new versions of packages. You can do this by clicking `Kernel` > `Restart Kernel...` in the Jupyter menu."
   ]
  },
  {
   "cell_type": "code",
   "execution_count": 1,
   "id": "76595985-329e-476c-94ce-021d2f77cd4a",
   "metadata": {},
   "outputs": [
    {
     "name": "stderr",
     "output_type": "stream",
     "text": [
      "here() starts at /Users/msoliai/Documents/test/PGS-of-height\n",
      "\n"
     ]
    },
    {
     "name": "stdout",
     "output_type": "stream",
     "text": [
      "[1] \"Project root is set to: /Users/msoliai/Documents/test/PGS-of-height\"\n"
     ]
    }
   ],
   "source": [
    "# Verify the Project Root is set to PGS-of-Height\n",
    "setwd('..')\n",
    "library(here)\n",
    "project_root <- here::here()\n",
    "print(paste(\"Project root is set to:\", project_root))"
   ]
  },
  {
   "cell_type": "markdown",
   "id": "563ad03a-7b49-4598-8e7d-dc623ab90611",
   "metadata": {},
   "source": [
    "<a id=\"Libraries\"></a>\n",
    "## 4. Load R Libraries"
   ]
  },
  {
   "cell_type": "code",
   "execution_count": 2,
   "id": "422a390f-1f6f-4dee-83dc-600032b5657e",
   "metadata": {},
   "outputs": [
    {
     "name": "stderr",
     "output_type": "stream",
     "text": [
      "Loading required package: bigstatsr\n",
      "\n"
     ]
    }
   ],
   "source": [
    "# Import libraries\n",
    "library(data.table)\n",
    "library(magrittr)\n",
    "library(parallel)\n",
    "library(bigsnpr)\n",
    "#library(lassosum)\n",
    "library(methods)\n",
    "library(googledrive)\n",
    "library(ggplot2)"
   ]
  },
  {
   "cell_type": "markdown",
   "id": "58e1f97e-f78f-4951-a408-99546951ea87",
   "metadata": {},
   "source": [
    "<a id=\"Base\"></a>\n",
    "## 5. Quality Control (QC) of Base Data"
   ]
  },
  {
   "cell_type": "markdown",
   "id": "7fb2c5b9-e3f9-4c6c-a293-5db7a65f525c",
   "metadata": {},
   "source": [
    "### Obtaining the base data file"
   ]
  },
  {
   "cell_type": "markdown",
   "id": "9fe8229a-a83e-43e0-9d67-83532ef255f2",
   "metadata": {},
   "source": [
    "The first step in Polygenic Risk Score (PRS) analyses is to generate or obtain the base data (GWAS sum stats). In this analysis, we will use GWAS on simulated height. The sum stats can be found [here](https://drive.google.com/file/d/1RWjk49QNZj9zvJHc9X_wyZ51fdy6xQjv/view). "
   ]
  },
  {
   "cell_type": "markdown",
   "id": "575ea884-08f7-43d0-a098-63b980fd71d4",
   "metadata": {},
   "source": [
    "### Download the base data"
   ]
  },
  {
   "cell_type": "code",
   "execution_count": 3,
   "id": "97dda29c-f925-4f1b-8f98-2cdce0e8fb3a",
   "metadata": {},
   "outputs": [
    {
     "name": "stderr",
     "output_type": "stream",
     "text": [
      "File downloaded:\n",
      "\n",
      "• \u001b[36mHeight.gwas.txt.gz\u001b[39m \u001b[90m<id: 1RWjk49QNZj9zvJHc9X_wyZ51fdy6xQjv>\u001b[39m\n",
      "\n",
      "Saved locally as:\n",
      "\n",
      "• \u001b[34m/Users/msoliai/Documents/test/PGS-of-height/data/Height.gwas.txt.gz\u001b[39m\n",
      "\n"
     ]
    }
   ],
   "source": [
    "library(googledrive)\n",
    "\n",
    "# Deauthorize to access\n",
    "drive_deauth()\n",
    "\n",
    "# Define the file ID and destination path\n",
    "file_id <- \"1RWjk49QNZj9zvJHc9X_wyZ51fdy6xQjv\"\n",
    "destination <- paste0(project_root, \"/data/Height.gwas.txt.gz\")\n",
    "\n",
    "# Download the file\n",
    "drive_download(as_id(file_id), path = destination, overwrite = TRUE)"
   ]
  },
  {
   "cell_type": "markdown",
   "id": "12439aa9-de5e-416f-aab4-d4675e4fb0b2",
   "metadata": {},
   "source": [
    "### Import the base data"
   ]
  },
  {
   "cell_type": "code",
   "execution_count": 4,
   "id": "ff9880f1-8651-4b1e-b9c6-94a448f26e72",
   "metadata": {},
   "outputs": [
    {
     "name": "stdout",
     "output_type": "stream",
     "text": [
      "[1] \"The base dataset contains 529504 SNPs.\"\n"
     ]
    },
    {
     "data": {
      "text/html": [
       "<table class=\"dataframe\">\n",
       "<caption>A data.table: 6 × 11</caption>\n",
       "<thead>\n",
       "\t<tr><th scope=col>CHR</th><th scope=col>BP</th><th scope=col>SNP</th><th scope=col>A1</th><th scope=col>A2</th><th scope=col>N</th><th scope=col>SE</th><th scope=col>P</th><th scope=col>OR</th><th scope=col>INFO</th><th scope=col>MAF</th></tr>\n",
       "\t<tr><th scope=col>&lt;int&gt;</th><th scope=col>&lt;int&gt;</th><th scope=col>&lt;chr&gt;</th><th scope=col>&lt;chr&gt;</th><th scope=col>&lt;chr&gt;</th><th scope=col>&lt;int&gt;</th><th scope=col>&lt;dbl&gt;</th><th scope=col>&lt;dbl&gt;</th><th scope=col>&lt;dbl&gt;</th><th scope=col>&lt;dbl&gt;</th><th scope=col>&lt;dbl&gt;</th></tr>\n",
       "</thead>\n",
       "<tbody>\n",
       "\t<tr><td>1</td><td>756604</td><td>rs3131962 </td><td>A</td><td>G</td><td>388028</td><td>0.00301666</td><td>0.483171</td><td>0.9978869</td><td>0.8905579</td><td>0.3693896</td></tr>\n",
       "\t<tr><td>1</td><td>768448</td><td>rs12562034</td><td>A</td><td>G</td><td>388028</td><td>0.00329472</td><td>0.834808</td><td>1.0006873</td><td>0.8958935</td><td>0.3368458</td></tr>\n",
       "\t<tr><td>1</td><td>779322</td><td>rs4040617 </td><td>G</td><td>A</td><td>388028</td><td>0.00303344</td><td>0.428970</td><td>0.9976036</td><td>0.8975083</td><td>0.3773680</td></tr>\n",
       "\t<tr><td>1</td><td>801536</td><td>rs79373928</td><td>G</td><td>T</td><td>388028</td><td>0.00841324</td><td>0.808999</td><td>1.0020357</td><td>0.9089629</td><td>0.4832122</td></tr>\n",
       "\t<tr><td>1</td><td>808631</td><td>rs11240779</td><td>G</td><td>A</td><td>388028</td><td>0.00242821</td><td>0.590265</td><td>1.0013083</td><td>0.8932125</td><td>0.4504096</td></tr>\n",
       "\t<tr><td>1</td><td>809876</td><td>rs57181708</td><td>G</td><td>A</td><td>388028</td><td>0.00336785</td><td>0.714750</td><td>1.0012317</td><td>0.9235576</td><td>0.4997439</td></tr>\n",
       "</tbody>\n",
       "</table>\n"
      ],
      "text/latex": [
       "A data.table: 6 × 11\n",
       "\\begin{tabular}{lllllllllll}\n",
       " CHR & BP & SNP & A1 & A2 & N & SE & P & OR & INFO & MAF\\\\\n",
       " <int> & <int> & <chr> & <chr> & <chr> & <int> & <dbl> & <dbl> & <dbl> & <dbl> & <dbl>\\\\\n",
       "\\hline\n",
       "\t 1 & 756604 & rs3131962  & A & G & 388028 & 0.00301666 & 0.483171 & 0.9978869 & 0.8905579 & 0.3693896\\\\\n",
       "\t 1 & 768448 & rs12562034 & A & G & 388028 & 0.00329472 & 0.834808 & 1.0006873 & 0.8958935 & 0.3368458\\\\\n",
       "\t 1 & 779322 & rs4040617  & G & A & 388028 & 0.00303344 & 0.428970 & 0.9976036 & 0.8975083 & 0.3773680\\\\\n",
       "\t 1 & 801536 & rs79373928 & G & T & 388028 & 0.00841324 & 0.808999 & 1.0020357 & 0.9089629 & 0.4832122\\\\\n",
       "\t 1 & 808631 & rs11240779 & G & A & 388028 & 0.00242821 & 0.590265 & 1.0013083 & 0.8932125 & 0.4504096\\\\\n",
       "\t 1 & 809876 & rs57181708 & G & A & 388028 & 0.00336785 & 0.714750 & 1.0012317 & 0.9235576 & 0.4997439\\\\\n",
       "\\end{tabular}\n"
      ],
      "text/markdown": [
       "\n",
       "A data.table: 6 × 11\n",
       "\n",
       "| CHR &lt;int&gt; | BP &lt;int&gt; | SNP &lt;chr&gt; | A1 &lt;chr&gt; | A2 &lt;chr&gt; | N &lt;int&gt; | SE &lt;dbl&gt; | P &lt;dbl&gt; | OR &lt;dbl&gt; | INFO &lt;dbl&gt; | MAF &lt;dbl&gt; |\n",
       "|---|---|---|---|---|---|---|---|---|---|---|\n",
       "| 1 | 756604 | rs3131962  | A | G | 388028 | 0.00301666 | 0.483171 | 0.9978869 | 0.8905579 | 0.3693896 |\n",
       "| 1 | 768448 | rs12562034 | A | G | 388028 | 0.00329472 | 0.834808 | 1.0006873 | 0.8958935 | 0.3368458 |\n",
       "| 1 | 779322 | rs4040617  | G | A | 388028 | 0.00303344 | 0.428970 | 0.9976036 | 0.8975083 | 0.3773680 |\n",
       "| 1 | 801536 | rs79373928 | G | T | 388028 | 0.00841324 | 0.808999 | 1.0020357 | 0.9089629 | 0.4832122 |\n",
       "| 1 | 808631 | rs11240779 | G | A | 388028 | 0.00242821 | 0.590265 | 1.0013083 | 0.8932125 | 0.4504096 |\n",
       "| 1 | 809876 | rs57181708 | G | A | 388028 | 0.00336785 | 0.714750 | 1.0012317 | 0.9235576 | 0.4997439 |\n",
       "\n"
      ],
      "text/plain": [
       "  CHR BP     SNP        A1 A2 N      SE         P        OR        INFO     \n",
       "1 1   756604 rs3131962  A  G  388028 0.00301666 0.483171 0.9978869 0.8905579\n",
       "2 1   768448 rs12562034 A  G  388028 0.00329472 0.834808 1.0006873 0.8958935\n",
       "3 1   779322 rs4040617  G  A  388028 0.00303344 0.428970 0.9976036 0.8975083\n",
       "4 1   801536 rs79373928 G  T  388028 0.00841324 0.808999 1.0020357 0.9089629\n",
       "5 1   808631 rs11240779 G  A  388028 0.00242821 0.590265 1.0013083 0.8932125\n",
       "6 1   809876 rs57181708 G  A  388028 0.00336785 0.714750 1.0012317 0.9235576\n",
       "  MAF      \n",
       "1 0.3693896\n",
       "2 0.3368458\n",
       "3 0.3773680\n",
       "4 0.4832122\n",
       "5 0.4504096\n",
       "6 0.4997439"
      ]
     },
     "metadata": {},
     "output_type": "display_data"
    }
   ],
   "source": [
    "# Import the base data file\n",
    "base <- fread(paste0(project_root, '/data/Height.gwas.txt.gz'))\n",
    "print(paste(\"The base dataset contains\", dim(base)[1], \"SNPs.\"))\n",
    "head(base)"
   ]
  },
  {
   "cell_type": "markdown",
   "id": "7809998d-6c7b-4ea3-a1bd-f7fcac34aef2",
   "metadata": {},
   "source": [
    "### QC check of base dataset"
   ]
  },
  {
   "cell_type": "markdown",
   "id": "79662412-650b-467c-b245-f509bf0da196",
   "metadata": {},
   "source": [
    "#### Heritability Check"
   ]
  },
  {
   "cell_type": "markdown",
   "id": "092e7705-1805-45dd-96f4-d982073cc6c2",
   "metadata": {},
   "source": [
    "PRS analyses are performed on base data with a chip-heritability estimate h<sup>2</sup><sub>snp</sub> > 0.05. The chip-heritability of a GWAS can be estimated using e.g. LD Score Regression (LDSC). The base data for the height GWAS are simulated to have a chip-heritability much greater than 0.05 so we can skip this step. The R package 'GCTA' can be used to calculate chip heritability if the bfile (PLINK file type) and phenotype files are provided."
   ]
  },
  {
   "cell_type": "markdown",
   "id": "8c3d2b3d-22df-4e26-9352-2ecab07aeebc",
   "metadata": {},
   "source": [
    "#### Effect allele"
   ]
  },
  {
   "cell_type": "markdown",
   "id": "1fdb8e2e-4ec1-4bbd-be11-f3d8e80674fa",
   "metadata": {},
   "source": [
    "It is important to know which allele is the effect allele and which is the non-effect allele for PRS association results to be in the correct direction.\n",
    "\n",
    "Some GWAS results files do not make clear which allele is the effect allele and which is the non-effect allele. If the incorrect assumption is made in computing the PRS, then the effect of the PRS in the target data will be in the wrong direction.\n",
    "\n",
    "To avoid misleading conclusions the effect allele from the base (GWAS) data must be known. In the case of our base dataset, the A1 allele is the effect allele."
   ]
  },
  {
   "cell_type": "markdown",
   "id": "3ac6e4eb-4609-49a2-97e3-185334a0df2a",
   "metadata": {},
   "source": [
    "#### Genome build"
   ]
  },
  {
   "cell_type": "markdown",
   "id": "f690021c-d05d-432e-a293-aea179983c1c",
   "metadata": {},
   "source": [
    "The height summary statistic are on the same genome build as the target data that we will be using (GRCh37).\n",
    "\n",
    "Must check that the base and target data are on the same genome build, and if they are not then use a tool such as [LiftOver](https://genome.ucsc.edu/cgi-bin/hgLiftOver) to make the builds consistent across the data sets."
   ]
  },
  {
   "cell_type": "markdown",
   "id": "76e01a20-9192-4f34-b5f4-f20942929807",
   "metadata": {},
   "source": [
    "#### GWAS QC"
   ]
  },
  {
   "cell_type": "markdown",
   "id": "87b4502e-704b-4485-9547-27c5d6e955b0",
   "metadata": {},
   "source": [
    "Both the base and target data should be subjected to the standard stringent QC steps performed in GWAS. If the base data have been obtained as summary statistics from a public source, then the typical QC steps that you will be able to perform on them are to filter the SNPs according to INFO score and MAF. \n",
    "\n",
    "SNPs with low minor allele frequency (MAF) or imputation information score (INFO) are more likely to generate false positive results due to their lower statistical power (and higher probability of genotyping errors in the case of low MAF). Therefore, SNPs with low MAF and INFO are typically removed before performing downstream analyses. \n",
    "\n",
    "It's recommend to remove SNPs with MAF < 1% and INFO < 0.8 (with very large base sample sizes these thresholds could be reduced if sensitivity checks indicate reliable results)."
   ]
  },
  {
   "cell_type": "code",
   "execution_count": 5,
   "id": "e0eb97ac-941e-4502-aeb9-050a4f5523fc",
   "metadata": {},
   "outputs": [
    {
     "name": "stdout",
     "output_type": "stream",
     "text": [
      "[1] \"The base dataset contains 529504 SNPs.\"\n",
      "[1] \"The base.qc dataset contains 529495 SNPs.\"\n"
     ]
    },
    {
     "data": {
      "text/html": [
       "<table class=\"dataframe\">\n",
       "<caption>A data.table: 6 × 11</caption>\n",
       "<thead>\n",
       "\t<tr><th scope=col>CHR</th><th scope=col>BP</th><th scope=col>SNP</th><th scope=col>A1</th><th scope=col>A2</th><th scope=col>N</th><th scope=col>SE</th><th scope=col>P</th><th scope=col>OR</th><th scope=col>INFO</th><th scope=col>MAF</th></tr>\n",
       "\t<tr><th scope=col>&lt;int&gt;</th><th scope=col>&lt;int&gt;</th><th scope=col>&lt;chr&gt;</th><th scope=col>&lt;chr&gt;</th><th scope=col>&lt;chr&gt;</th><th scope=col>&lt;int&gt;</th><th scope=col>&lt;dbl&gt;</th><th scope=col>&lt;dbl&gt;</th><th scope=col>&lt;dbl&gt;</th><th scope=col>&lt;dbl&gt;</th><th scope=col>&lt;dbl&gt;</th></tr>\n",
       "</thead>\n",
       "<tbody>\n",
       "\t<tr><td>1</td><td>756604</td><td>rs3131962 </td><td>A</td><td>G</td><td>388028</td><td>0.00301666</td><td>0.483171</td><td>0.9978869</td><td>0.8905579</td><td>0.3693896</td></tr>\n",
       "\t<tr><td>1</td><td>768448</td><td>rs12562034</td><td>A</td><td>G</td><td>388028</td><td>0.00329472</td><td>0.834808</td><td>1.0006873</td><td>0.8958935</td><td>0.3368458</td></tr>\n",
       "\t<tr><td>1</td><td>779322</td><td>rs4040617 </td><td>G</td><td>A</td><td>388028</td><td>0.00303344</td><td>0.428970</td><td>0.9976036</td><td>0.8975083</td><td>0.3773680</td></tr>\n",
       "\t<tr><td>1</td><td>801536</td><td>rs79373928</td><td>G</td><td>T</td><td>388028</td><td>0.00841324</td><td>0.808999</td><td>1.0020357</td><td>0.9089629</td><td>0.4832122</td></tr>\n",
       "\t<tr><td>1</td><td>808631</td><td>rs11240779</td><td>G</td><td>A</td><td>388028</td><td>0.00242821</td><td>0.590265</td><td>1.0013083</td><td>0.8932125</td><td>0.4504096</td></tr>\n",
       "\t<tr><td>1</td><td>809876</td><td>rs57181708</td><td>G</td><td>A</td><td>388028</td><td>0.00336785</td><td>0.714750</td><td>1.0012317</td><td>0.9235576</td><td>0.4997439</td></tr>\n",
       "</tbody>\n",
       "</table>\n"
      ],
      "text/latex": [
       "A data.table: 6 × 11\n",
       "\\begin{tabular}{lllllllllll}\n",
       " CHR & BP & SNP & A1 & A2 & N & SE & P & OR & INFO & MAF\\\\\n",
       " <int> & <int> & <chr> & <chr> & <chr> & <int> & <dbl> & <dbl> & <dbl> & <dbl> & <dbl>\\\\\n",
       "\\hline\n",
       "\t 1 & 756604 & rs3131962  & A & G & 388028 & 0.00301666 & 0.483171 & 0.9978869 & 0.8905579 & 0.3693896\\\\\n",
       "\t 1 & 768448 & rs12562034 & A & G & 388028 & 0.00329472 & 0.834808 & 1.0006873 & 0.8958935 & 0.3368458\\\\\n",
       "\t 1 & 779322 & rs4040617  & G & A & 388028 & 0.00303344 & 0.428970 & 0.9976036 & 0.8975083 & 0.3773680\\\\\n",
       "\t 1 & 801536 & rs79373928 & G & T & 388028 & 0.00841324 & 0.808999 & 1.0020357 & 0.9089629 & 0.4832122\\\\\n",
       "\t 1 & 808631 & rs11240779 & G & A & 388028 & 0.00242821 & 0.590265 & 1.0013083 & 0.8932125 & 0.4504096\\\\\n",
       "\t 1 & 809876 & rs57181708 & G & A & 388028 & 0.00336785 & 0.714750 & 1.0012317 & 0.9235576 & 0.4997439\\\\\n",
       "\\end{tabular}\n"
      ],
      "text/markdown": [
       "\n",
       "A data.table: 6 × 11\n",
       "\n",
       "| CHR &lt;int&gt; | BP &lt;int&gt; | SNP &lt;chr&gt; | A1 &lt;chr&gt; | A2 &lt;chr&gt; | N &lt;int&gt; | SE &lt;dbl&gt; | P &lt;dbl&gt; | OR &lt;dbl&gt; | INFO &lt;dbl&gt; | MAF &lt;dbl&gt; |\n",
       "|---|---|---|---|---|---|---|---|---|---|---|\n",
       "| 1 | 756604 | rs3131962  | A | G | 388028 | 0.00301666 | 0.483171 | 0.9978869 | 0.8905579 | 0.3693896 |\n",
       "| 1 | 768448 | rs12562034 | A | G | 388028 | 0.00329472 | 0.834808 | 1.0006873 | 0.8958935 | 0.3368458 |\n",
       "| 1 | 779322 | rs4040617  | G | A | 388028 | 0.00303344 | 0.428970 | 0.9976036 | 0.8975083 | 0.3773680 |\n",
       "| 1 | 801536 | rs79373928 | G | T | 388028 | 0.00841324 | 0.808999 | 1.0020357 | 0.9089629 | 0.4832122 |\n",
       "| 1 | 808631 | rs11240779 | G | A | 388028 | 0.00242821 | 0.590265 | 1.0013083 | 0.8932125 | 0.4504096 |\n",
       "| 1 | 809876 | rs57181708 | G | A | 388028 | 0.00336785 | 0.714750 | 1.0012317 | 0.9235576 | 0.4997439 |\n",
       "\n"
      ],
      "text/plain": [
       "  CHR BP     SNP        A1 A2 N      SE         P        OR        INFO     \n",
       "1 1   756604 rs3131962  A  G  388028 0.00301666 0.483171 0.9978869 0.8905579\n",
       "2 1   768448 rs12562034 A  G  388028 0.00329472 0.834808 1.0006873 0.8958935\n",
       "3 1   779322 rs4040617  G  A  388028 0.00303344 0.428970 0.9976036 0.8975083\n",
       "4 1   801536 rs79373928 G  T  388028 0.00841324 0.808999 1.0020357 0.9089629\n",
       "5 1   808631 rs11240779 G  A  388028 0.00242821 0.590265 1.0013083 0.8932125\n",
       "6 1   809876 rs57181708 G  A  388028 0.00336785 0.714750 1.0012317 0.9235576\n",
       "  MAF      \n",
       "1 0.3693896\n",
       "2 0.3368458\n",
       "3 0.3773680\n",
       "4 0.4832122\n",
       "5 0.4504096\n",
       "6 0.4997439"
      ]
     },
     "metadata": {},
     "output_type": "display_data"
    }
   ],
   "source": [
    "base.qc <- base[base$MAF > 0.01 & base$INFO > 0.8,]\n",
    "print(paste(\"The base dataset contains\", dim(base)[1], \"SNPs.\"))\n",
    "print(paste(\"The base.qc dataset contains\", dim(base.qc)[1], \"SNPs.\"))\n",
    "head(base.qc)"
   ]
  },
  {
   "cell_type": "markdown",
   "id": "126f06c1-0a09-4e28-8960-bee2d2ac0e77",
   "metadata": {},
   "source": [
    "#### Mismatching SNPs"
   ]
  },
  {
   "cell_type": "markdown",
   "id": "18efce6a-283b-45ab-babf-c85903c6b957",
   "metadata": {},
   "source": [
    "SNPs that have mismatching alleles reported in the base and target data are either resolvable by \"strand-flipping\" the alleles to their complementary alleles in e.g. the target data, such as for a SNP with A/C in the base data and G/T in the target, or non-resolvable, such as for a SNP with C/G in the base and C/T in the target. Most polygenic score software perform strand-flipping automatically for SNPs that are resolvable, and remove non-resolvable mismatching SNPs.\n",
    "\n",
    "Since the target data is needed to know which SNPs have mismatching alleles, we will perform this strand-flipping in the target data."
   ]
  },
  {
   "cell_type": "markdown",
   "id": "45250ffe-56aa-44a0-8830-7b3fd1adc108",
   "metadata": {},
   "source": [
    "#### Duplicate SNPs"
   ]
  },
  {
   "cell_type": "markdown",
   "id": "07de3197-0710-45d6-9b60-79e097dceebf",
   "metadata": {},
   "source": [
    "If an error has occurred in the generation of the base data then there may be duplicated SNPs in the base data file. Most PRS software do not allow duplicated SNPs in the base data input and thus they should be removed."
   ]
  },
  {
   "cell_type": "code",
   "execution_count": 6,
   "id": "82ba9b9e-388c-4f15-97b4-a71dfcf6a826",
   "metadata": {},
   "outputs": [
    {
     "name": "stdout",
     "output_type": "stream",
     "text": [
      "[1] \"The base.qc dataset contains 529493 rows.\"\n"
     ]
    }
   ],
   "source": [
    "# Remove duplicated SNP\n",
    "base.qc <- unique(base.qc, by = \"SNP\")\n",
    "print(paste(\"The base.qc dataset contains\", dim(base.qc)[1], \"rows.\"))"
   ]
  },
  {
   "cell_type": "markdown",
   "id": "179c7ead-11b9-48b1-b272-94f9faa641b1",
   "metadata": {},
   "source": [
    "#### Ambiguous SNPs"
   ]
  },
  {
   "cell_type": "markdown",
   "id": "8dc0f3df-01b4-4733-a5d3-4e0601e9e2cf",
   "metadata": {},
   "source": [
    "If the base and target data were generated using different genotyping chips and the chromosome strand (+/-) that was used for either is unknown, then it is not possible to pair-up the alleles of ambiguous SNPs (i.e. those with complementary alleles, either C/G or A/T SNPs) across the data sets, because it will be unknown whether the base and target data are referring to the same allele or not. While allele frequencies could be used to infer which alleles are on the same strand, the accuracy of this could be low for SNPs with MAF close to 50% or when the base and target data are from different populations. Therefore, it's recommend to remove all ambiguous SNPs to avoid introducing this potential source of systematic error.\n",
    "\n",
    "Ambiguous SNPs can be removed in the base data and then there will be no such SNPs in the subsequent analyses, since analyses are performed only on SNPs that overlap between the base and target data."
   ]
  },
  {
   "cell_type": "code",
   "execution_count": 7,
   "id": "f1d5ab0c-2aaf-4b82-8292-2150148b9827",
   "metadata": {},
   "outputs": [
    {
     "name": "stdout",
     "output_type": "stream",
     "text": [
      "[1] \"The base.qc dataset contains 499617 SNPs.\"\n"
     ]
    }
   ],
   "source": [
    "# Remove ambiguous SNPs\n",
    "base.qc <- base.qc[!(A1 == \"A\" & A2 == \"T\" |\n",
    "                     A1 == \"T\" & A2 == \"A\" |\n",
    "                     A1 == \"G\" & A2 == \"C\" |\n",
    "                     A1 == \"C\" & A2 == \"G\")]\n",
    "\n",
    "print(paste(\"The base.qc dataset contains\", dim(base.qc)[1], \"SNPs.\"))"
   ]
  },
  {
   "cell_type": "markdown",
   "id": "41beb122-70ae-4260-ac2c-a9af14c9b053",
   "metadata": {},
   "source": [
    "#### Sex chromosomes"
   ]
  },
  {
   "cell_type": "markdown",
   "id": "7f174a51-d83a-4a4d-8c64-4de2dc5512d9",
   "metadata": {},
   "source": [
    "Sometimes sample mislabelling can occur, which may lead to invalid results. One indication of a mislabelled sample is a difference between reported sex and that indicated by the sex chromosomes. While this may be due to a difference in sex and gender identity, it could also reflect mislabeling of samples or misreporting and, thus, individuals in which there is a mismatch between biological and reported sex are typically removed. See the Target Data section in which a sex-check is performed."
   ]
  },
  {
   "cell_type": "markdown",
   "id": "44264a71-575d-49d4-b571-ebbfafa61c8b",
   "metadata": {},
   "source": [
    "#### Sample overlap"
   ]
  },
  {
   "cell_type": "markdown",
   "id": "9460d571-ffc1-4c54-8963-303ecb0dd82b",
   "metadata": {},
   "source": [
    "Since the target data were simulated there are no overlapping samples between the base and target data here."
   ]
  },
  {
   "cell_type": "markdown",
   "id": "8dacbbe0-27bf-43fa-97fd-52bc0e48ed42",
   "metadata": {},
   "source": [
    "#### Relatedness"
   ]
  },
  {
   "cell_type": "markdown",
   "id": "a8340579-06a1-4b3b-894d-5df91c0d1681",
   "metadata": {},
   "source": [
    "Closely related individuals within and between the base and the target data may lead to overfitted results, limiting the generalizability of the results. Relatedness within the target data is tested in the Target Data section."
   ]
  },
  {
   "cell_type": "markdown",
   "id": "1e6f8f1f-a568-4d30-b60f-eca0cdc84cf4",
   "metadata": {},
   "source": [
    "#### Write the QC'd base dataset"
   ]
  },
  {
   "cell_type": "code",
   "execution_count": 8,
   "id": "7882090b-9e56-436c-9066-c1e06e217713",
   "metadata": {},
   "outputs": [],
   "source": [
    "# Use fwrite to write the data.table to a plain text file\n",
    "fwrite(base.qc, paste0(project_root, '/data/Height.gwas.qc.txt'), sep='\\t')\n",
    "\n",
    "# Compress the file using gzip\n",
    "system(\"gzip Height.gwas.qc.txt\")"
   ]
  },
  {
   "cell_type": "markdown",
   "id": "8c85f5a6-4a43-4735-95c2-8737cabdb193",
   "metadata": {},
   "source": [
    "<a id=\"Target\"></a>\n",
    "## 6. Quality Control (QC) of Target Data"
   ]
  },
  {
   "cell_type": "markdown",
   "id": "eecabe18-6a28-407a-96aa-df0db36d61fe",
   "metadata": {},
   "source": [
    "### Obtaining the target data files"
   ]
  },
  {
   "cell_type": "markdown",
   "id": "6d0c5780-e964-4568-9448-7788b2e8e3b0",
   "metadata": {},
   "source": [
    "Target data consist of individual-level genotype-phenotype data. Genotype-phenotype data was simulated using the 1000 Genomes Project European samples. The data can be downloaded [here](https://drive.google.com/file/d/1uhJR_3sn7RA8U5iYQbcmTp6vFdQiF4F2/view)\n",
    "\n",
    "Make sure to unzip the data (EUR.zip) before proceeding."
   ]
  },
  {
   "cell_type": "markdown",
   "id": "d5ef0323-b760-4a8a-9155-4a14e77eb2bf",
   "metadata": {},
   "source": [
    "You will need `plink` in this section.\n",
    "\n",
    "Install `plink` and include its location in PATH. If PLINK is not in PATH and is instead in your working directory, replace all instances of `plink` in the tutorial with ./plink."
   ]
  },
  {
   "cell_type": "markdown",
   "id": "0770b4b6-e0ea-4b87-97b6-438000c52e60",
   "metadata": {},
   "source": [
    "### Download the target data"
   ]
  },
  {
   "cell_type": "code",
   "execution_count": 9,
   "id": "7035816f-606e-4630-824d-9a5160589f21",
   "metadata": {},
   "outputs": [
    {
     "name": "stderr",
     "output_type": "stream",
     "text": [
      "File downloaded:\n",
      "\n",
      "• \u001b[36mEUR.zip\u001b[39m \u001b[90m<id: 1uhJR_3sn7RA8U5iYQbcmTp6vFdQiF4F2>\u001b[39m\n",
      "\n",
      "Saved locally as:\n",
      "\n",
      "• \u001b[34m/Users/msoliai/Documents/test/PGS-of-height/data/EUR.zip\u001b[39m\n",
      "\n"
     ]
    },
    {
     "data": {
      "text/html": [],
      "text/latex": [],
      "text/markdown": [],
      "text/plain": [
       "character(0)"
      ]
     },
     "metadata": {},
     "output_type": "display_data"
    }
   ],
   "source": [
    "# Deauthorize to access target data\n",
    "drive_deauth()\n",
    "\n",
    "# Define the file ID and destination path\n",
    "file_id <- \"1uhJR_3sn7RA8U5iYQbcmTp6vFdQiF4F2\"\n",
    "destination <- paste0(project_root, \"/data/EUR.zip\")\n",
    "\n",
    "# Download the target data (a .zip file of PLINK files)\n",
    "drive_download(as_id(file_id), path = destination, overwrite = TRUE)\n",
    "\n",
    "# Unzip the target data\n",
    "unzip(destination, exdir = \"data/\")\n",
    "\n",
    "# Verify the contents of the target data directory\n",
    "list.files(project_root, \"/data/\")"
   ]
  },
  {
   "cell_type": "markdown",
   "id": "20acb6d1-c05e-465b-8d99-bc4b5899d2e2",
   "metadata": {},
   "source": [
    "### QC checklist: Target data"
   ]
  },
  {
   "cell_type": "markdown",
   "id": "937e578a-28bf-41b7-8be6-65f8293c634a",
   "metadata": {},
   "source": [
    "#### Sample size"
   ]
  },
  {
   "cell_type": "markdown",
   "id": "afa532eb-1a0f-46da-970d-a90a625ace45",
   "metadata": {},
   "source": [
    "It's recommended to only perform PRS analyses on target data of at least 100 individuals. The sample size of these target data is 503 individuals."
   ]
  },
  {
   "cell_type": "markdown",
   "id": "66a5f554-72fa-47d2-9346-c6a89826b9b2",
   "metadata": {},
   "source": [
    "#### Genome build"
   ]
  },
  {
   "cell_type": "markdown",
   "id": "88cda182-c5e2-4113-82b8-0210db053179",
   "metadata": {},
   "source": [
    "The genome build for our base and target data is the same (GRCh37)."
   ]
  },
  {
   "cell_type": "markdown",
   "id": "23932793-3ad6-40be-ad55-8b62654fdd03",
   "metadata": {},
   "source": [
    "#### Standard genotype QC"
   ]
  },
  {
   "cell_type": "markdown",
   "id": "7a1b195c-6d5c-42ac-8654-f7616f13466a",
   "metadata": {},
   "source": [
    "The target data must be quality controlled to at least the standards implemented in GWAS studies, e.g. removing SNPs with low genotyping rate, low minor allele frequency, out of Hardy-Weinberg Equilibrium, removing individuals with low genotyping rate (see [Marees et al](https://www.ncbi.nlm.nih.gov/pmc/articles/PMC6001694/)).\n",
    "\n",
    "The following `plink` command applies some of these QC metrics to the target data:"
   ]
  },
  {
   "cell_type": "code",
   "execution_count": 10,
   "id": "1f07024c-938d-4974-91fb-df3b26629a6e",
   "metadata": {},
   "outputs": [
    {
     "name": "stdout",
     "output_type": "stream",
     "text": [
      "[1] \"plink --bfile /Users/msoliai/Documents/test/PGS-of-height/data/EUR --maf 0.01 --hwe 1e-6 --geno 0.01 --mind 0.01 --write-snplist --make-bed --out /Users/msoliai/Documents/test/PGS-of-height/data/EUR.QC\"\n"
     ]
    }
   ],
   "source": [
    "# Define the path to the PLINK executable and data directory\n",
    "plink_executable <- \"plink\"\n",
    "data_dir <- paste0(project_root, \"/data\")\n",
    "\n",
    "# Construct the PLINK command with the correct paths\n",
    "command <- paste(plink_executable,\n",
    "                 \"--bfile\", file.path(data_dir, \"EUR\"),\n",
    "                 \"--maf 0.01\",\n",
    "                 \"--hwe 1e-6\",\n",
    "                 \"--geno 0.01\",\n",
    "                 \"--mind 0.01\",\n",
    "                 \"--write-snplist\",\n",
    "                 \"--make-bed\",\n",
    "                 \"--out\", file.path(data_dir, \"EUR.QC\"))\n",
    "\n",
    "# Print the command to verify\n",
    "print(command)\n",
    "\n",
    "# Run the command\n",
    "system(command)"
   ]
  },
  {
   "cell_type": "markdown",
   "id": "c0212212-4398-4e8c-97a1-d375971c0171",
   "metadata": {},
   "source": [
    "Number of SNPs and samples filtered:\n",
    "- `14` samples were removed due to a high rate of genotype missingness\n",
    "- `5,353` SNP were removed due to missing genotype data\n",
    "- `944` SNPs were removed due to being out of Hardy-Weinberg Equilibrium\n",
    "- `5,061` SNPs were removed due to low minor allele frequency"
   ]
  },
  {
   "cell_type": "markdown",
   "id": "5434e7da-70b8-4820-add7-9b2c6767abeb",
   "metadata": {},
   "source": [
    "Each of the parameters corresponds to the following:\n",
    "\n",
    "| Parameter     | Value     | Description                                                                                                                                                                                                                              |\n",
    "|---------------|-----------|------------------------------------------------------------------------------------------------------------------------------------------------------------------------------------------------------------------------------------------|\n",
    "| bfile         | EUR       | Informs plink that the input genotype files should have a prefix of EUR                                                                                                                                                                 |\n",
    "| maf           | 0.01      | Removes all SNPs with minor allele frequency less than 0.01. Genotyping errors typically have a larger influence on SNPs with low MAF. Studies with large sample sizes could apply a lower MAF threshold                                 |\n",
    "| hwe           | 1e-6      | Removes SNPs with low P-value from the Hardy-Weinberg Equilibrium Fisher's exact or chi-squared test. SNPs with significant P-values from the HWE test are more likely affected by genotyping error or the effects of natural selection. Filtering should be performed on the control samples to avoid filtering SNPs that are causal (under selection in cases). When phenotype information is included, plink will automatically perform the filtering in the controls. |\n",
    "| geno          | 0.01      | Excludes SNPs that are missing in a high fraction of subjects. A two-stage filtering process is usually performed (see Marees et al).                                                                                                    |\n",
    "| mind          | 0.01      | Excludes individuals who have a high rate of genotype missingness, since this may indicate problems in the DNA sample or processing. (see Marees et al for more details).                                                               |\n",
    "| make-just-fam | -         | Informs plink to only generate the QC'ed sample name to avoid generating the .bed file.                                                                                                                                                 |\n",
    "| write-snplist | -         | Informs plink to only generate the QC'ed SNP list to avoid generating the .bed file.                                                                                                                                                    |\n",
    "| out           | EUR.QC    | Informs plink that all output should have a prefix of EUR.QC                                                                                                                                                                             |\n"
   ]
  },
  {
   "cell_type": "markdown",
   "id": "1e63ae79-08ea-4784-88c1-702b3e095764",
   "metadata": {},
   "source": [
    "Very high or low heterozygosity rates in individuals could be due to DNA contamination or to high levels of inbreeding. Therefore, samples with extreme heterozygosity are typically removed prior to downstream analyses.\n",
    "\n",
    "First, we perform pruning to remove highly correlated SNPs:"
   ]
  },
  {
   "cell_type": "code",
   "execution_count": 11,
   "id": "a92d6305-d55f-40b9-90b1-910779b52159",
   "metadata": {},
   "outputs": [
    {
     "name": "stdout",
     "output_type": "stream",
     "text": [
      "[1] \"plink --bfile /Users/msoliai/Documents/test/PGS-of-height/data/EUR --keep /Users/msoliai/Documents/test/PGS-of-height/data/EUR.QC.fam --extract /Users/msoliai/Documents/test/PGS-of-height/data/EUR.QC.snplist --indep-pairwise 200 50 0.25 --out /Users/msoliai/Documents/test/PGS-of-height/data/EUR.QC\"\n"
     ]
    }
   ],
   "source": [
    "# Define the path to the PLINK executable and data directory\n",
    "plink_executable <- \"plink\"\n",
    "data_dir <- paste0(project_root, \"/data\")\n",
    "\n",
    "# Construct the PLINK command with the correct paths\n",
    "command <- paste(plink_executable,\n",
    "                 \"--bfile\", file.path(data_dir, \"EUR\"),\n",
    "                 \"--keep\", file.path(data_dir, \"EUR.QC.fam\"),\n",
    "                 \"--extract\", file.path(data_dir, \"EUR.QC.snplist\"),\n",
    "                 \"--indep-pairwise 200 50 0.25\",\n",
    "                 \"--out\", file.path(data_dir, \"EUR.QC\"))\n",
    "\n",
    "# Print the command to verify\n",
    "print(command)\n",
    "\n",
    "# Run the command\n",
    "system(command)"
   ]
  },
  {
   "cell_type": "markdown",
   "id": "978ea63c-f833-4846-b0a0-edaaa77f8831",
   "metadata": {},
   "source": [
    "Each of the parameters corresponds to the following:\n",
    "\n",
    "| Parameter       | Value            | Description                                                                                                                                                                                                                           |\n",
    "|-----------------|------------------|---------------------------------------------------------------------------------------------------------------------------------------------------------------------------------------------------------------------------------------|\n",
    "| bfile           | EUR              | Informs plink that the input genotype files should have a prefix of EUR                                                                                                                                                              |\n",
    "| keep            | EUR.QC.fam       | Informs plink that we only want to use samples in EUR.QC.fam in the analysis                                                                                                                                                         |\n",
    "| extract         | EUR.QC.snplist   | Informs plink that we only want to use SNPs in EUR.QC.snplist in the analysis                                                                                                                                                        |\n",
    "| indep-pairwise  | 200 50 0.25      | Informs plink that we wish to perform pruning with a window size of 200 variants, sliding across the genome with step size of 50 variants at a time, and filter out any SNPs with LD \\(r^2\\) higher than 0.25                       |\n",
    "| out             | EUR.QC           | Informs plink that all output should have a prefix of EUR.QC                                                                                                                                                                          |\n",
    "\n",
    "\n",
    "\n",
    "This will generate two files 1) **EUR.QC.prune.in** and 2) **EUR.QC.prune.out**. All SNPs within EUR.QC.prune.in have a pairwise *r*<sup>2</sup> < 0.25."
   ]
  },
  {
   "cell_type": "code",
   "execution_count": 12,
   "id": "626d7b73-9050-4cf4-a585-f4c331c627a4",
   "metadata": {},
   "outputs": [
    {
     "name": "stdout",
     "output_type": "stream",
     "text": [
      "[1] \"plink --bfile /Users/msoliai/Documents/test/PGS-of-height/data/EUR --extract /Users/msoliai/Documents/test/PGS-of-height/data/EUR.QC.prune.in --keep /Users/msoliai/Documents/test/PGS-of-height/data/EUR.QC.fam --het --out /Users/msoliai/Documents/test/PGS-of-height/data/EUR.QC\"\n"
     ]
    }
   ],
   "source": [
    "# Compute the heterozygosity rates\n",
    "\n",
    "# Define the path to the PLINK executable and data directory\n",
    "plink_executable <- \"plink\" # Since Plink is in my PATH, there is no need to define a path to the executable\n",
    "data_dir <- paste0(project_root, \"/data\")\n",
    "\n",
    "# Construct the PLINK command with the correct paths\n",
    "command <- paste(plink_executable,\n",
    "                 \"--bfile\", file.path(data_dir, \"EUR\"),\n",
    "                 \"--extract\", file.path(data_dir, \"EUR.QC.prune.in\"),\n",
    "                 \"--keep\", file.path(data_dir, \"EUR.QC.fam\"),\n",
    "                 \"--het\",\n",
    "                 \"--out\", file.path(data_dir, \"EUR.QC\"))\n",
    "\n",
    "# Print the command to verify\n",
    "print(command)\n",
    "\n",
    "# Run the command\n",
    "system(command)"
   ]
  },
  {
   "cell_type": "markdown",
   "id": "141905fe-4ebb-40b6-b321-17a9a408d63d",
   "metadata": {},
   "source": [
    "This will generate the **EUR.QC.het** file, which contains F coefficient estimates for assessing heterozygosity. Remove individuals with F coefficients with > 3 standard deviations (SD) from the mean."
   ]
  },
  {
   "cell_type": "code",
   "execution_count": 13,
   "id": "0fd8d483-7d81-48d9-888d-6c6d80ef58e3",
   "metadata": {},
   "outputs": [],
   "source": [
    "# Define the data directory\n",
    "data_dir <- paste0(project_root, \"/data\")\n",
    "\n",
    "# Read in file from the data directory\n",
    "dat.het <- fread(file.path(data_dir, \"EUR.QC.het\"))\n",
    "\n",
    "# Get samples with F coefficient within 3 SD of the population mean\n",
    "valid <- dat.het[F <= mean(F)+3*sd(F) & F >= mean(F)-3*sd(F)] \n",
    "\n",
    "# Print FID and IID for valid samples to the data directory\n",
    "fwrite(valid[, c(\"FID\", \"IID\")], file.path(data_dir, \"EUR.valid.sample\"), sep = \"\\t\")"
   ]
  },
  {
   "cell_type": "code",
   "execution_count": 14,
   "id": "0fffb708-c802-4d42-98b6-23e1e7879555",
   "metadata": {},
   "outputs": [
    {
     "name": "stdout",
     "output_type": "stream",
     "text": [
      "[1] \"There were 2 samples excluded from the target data.\"\n"
     ]
    }
   ],
   "source": [
    "# Number of samples before filtering\n",
    "num_samples_before <- nrow(dat.het)\n",
    "\n",
    "# Number of samples after filtering\n",
    "num_samples_after <- nrow(valid)\n",
    "\n",
    "# Number of samples excluded\n",
    "num_samples_excluded <- num_samples_before - num_samples_after\n",
    "\n",
    "print(paste(\"There were\", num_samples_excluded, \"samples excluded from the target data.\", sep=\" \"))"
   ]
  },
  {
   "cell_type": "markdown",
   "id": "394665d7-e35c-40aa-96d6-f3819b25e53e",
   "metadata": {},
   "source": [
    "- `2` samples should have been excluded."
   ]
  },
  {
   "cell_type": "markdown",
   "id": "1c832649-bce4-44b6-8b6a-37f72f2ca10f",
   "metadata": {},
   "source": [
    "#### Ambiguous SNPs"
   ]
  },
  {
   "cell_type": "markdown",
   "id": "f408cd65-c70e-431e-8368-66c721abd218",
   "metadata": {},
   "source": [
    "These removed during the base data QC"
   ]
  },
  {
   "cell_type": "markdown",
   "id": "69a2d8e3-0e1c-48b7-a312-5802cc3ef8ac",
   "metadata": {},
   "source": [
    "#### Mismatching SNPs"
   ]
  },
  {
   "cell_type": "markdown",
   "id": "91a05640-6146-426f-ad79-166449e7dd1c",
   "metadata": {},
   "source": [
    "SNPs that have mismatching alleles reported in the base and target data may be resolvable by strand-flipping the alleles to their complementary alleles in e.g. the target data, such as for a SNP with A/C in the base data and G/T in the target.\n",
    "\n",
    "Note: Most PRS software will perform strand-flipping automatically, thus this step is may not be required."
   ]
  },
  {
   "cell_type": "code",
   "execution_count": 15,
   "id": "4811f9c8-795d-45ec-8e98-f4bff3bfe448",
   "metadata": {},
   "outputs": [],
   "source": [
    "# 1. Load the bim file, the summary statistic, and the QC SNP list\n",
    "\n",
    "# Define the data directory\n",
    "data_dir <- paste0(project_root, \"/data\")\n",
    "\n",
    "# magrittr allows us to use piping, which helps to reduce the \n",
    "# amount of intermediate data types\n",
    "\n",
    "# Read in bim file\n",
    "bim <- fread(file.path(data_dir, \"EUR.bim\")) %>%\n",
    "    # Note: . represents the output from previous step\n",
    "    # The syntax here means, setnames of the data read from\n",
    "    # the bim file, and replace the original column names by \n",
    "    # the new names\n",
    "    setnames(., colnames(.), c(\"CHR\", \"SNP\", \"CM\", \"BP\", \"B.A1\", \"B.A2\")) %>%\n",
    "    # And immediately change the alleles to upper cases\n",
    "    .[, c(\"B.A1\", \"B.A2\") := list(toupper(B.A1), toupper(B.A2))]\n",
    "\n",
    "# Read in summary statistic data\n",
    "height <- fread(file.path(data_dir, \"Height.gwas.qc.txt\")) %>%\n",
    "    # And immediately change the alleles to upper cases\n",
    "    .[, c(\"A1\", \"A2\") := list(toupper(A1), toupper(A2))]\n",
    "\n",
    "# Read in QCed SNPs\n",
    "qc <- fread(file.path(data_dir, \"EUR.QC.snplist\"), header = FALSE)"
   ]
  },
  {
   "cell_type": "code",
   "execution_count": 16,
   "id": "1cf3b56d-f10c-4705-aa27-fcd3966e21ee",
   "metadata": {},
   "outputs": [],
   "source": [
    "# 2. Identify SNPs that require strand flipping\n",
    "\n",
    "# Merge summary statistic with target\n",
    "info <- merge(bim, height, by=c(\"SNP\", \"CHR\", \"BP\")) %>%\n",
    "    # And filter out QCed SNPs\n",
    "    .[SNP %in% qc[,V1]]\n",
    "\n",
    "# Function for calculating the complementary allele\n",
    "complement <- function(x){\n",
    "    switch (x,\n",
    "        \"A\" = \"T\",\n",
    "        \"C\" = \"G\",\n",
    "        \"T\" = \"A\",\n",
    "        \"G\" = \"C\",\n",
    "        return(NA)\n",
    "    )\n",
    "} \n",
    "\n",
    "# Get SNPs that have the same alleles across base and target\n",
    "info.match <- info[A1 == B.A1 & A2 == B.A2, SNP]\n",
    "\n",
    "# Identify SNPs that are complementary between base and target\n",
    "com.snps <- info[sapply(B.A1, complement) == A1 &\n",
    "                    sapply(B.A2, complement) == A2, SNP]\n",
    "\n",
    "# Now update the bim file\n",
    "bim[SNP %in% com.snps, c(\"B.A1\", \"B.A2\") :=\n",
    "        list(sapply(B.A1, complement),\n",
    "            sapply(B.A2, complement))]"
   ]
  },
  {
   "cell_type": "code",
   "execution_count": 17,
   "id": "78c296d3-638d-44a3-82c4-d206da4a8f68",
   "metadata": {},
   "outputs": [],
   "source": [
    "# 3. Identify SNPs that require recoding in the target (to ensure the coding allele in the target data is the effective allele in the base summary statistic)\n",
    "\n",
    "# Define the data directory\n",
    "data_dir <- \"data\"\n",
    "\n",
    "# Identify SNPs that need recoding\n",
    "recode.snps <- info[B.A1 == A2 & B.A2 == A1, SNP]\n",
    "\n",
    "# Update the bim file\n",
    "bim[SNP %in% recode.snps, c(\"B.A1\", \"B.A2\") := list(B.A2, B.A1)]\n",
    "\n",
    "# Identify SNPs that need recoding & complement\n",
    "com.recode <- info[sapply(B.A1, complement) == A2 & sapply(B.A2, complement) == A1, SNP]\n",
    "\n",
    "# Now update the bim file\n",
    "bim[SNP %in% com.recode, c(\"B.A1\", \"B.A2\") := list(sapply(B.A2, complement), sapply(B.A1, complement))]\n",
    "\n",
    "# Define the path for the output file\n",
    "output_file <- file.path(data_dir, \"EUR.a1\")\n",
    "\n",
    "# Write the updated bim file to the data directory\n",
    "fwrite(bim[, c(\"SNP\", \"B.A1\")], output_file, col.names = FALSE, sep = \"\\t\")"
   ]
  },
  {
   "cell_type": "code",
   "execution_count": 18,
   "id": "490da6c1-a4df-4d73-bb56-299dc8f8492f",
   "metadata": {},
   "outputs": [],
   "source": [
    "# 4. Identify SNPs that have different allele in base and target (usually due to difference in genome build or Indel)\n",
    "\n",
    "# Define the data directory\n",
    "data_dir <- \"data\"\n",
    "\n",
    "# Identify mismatches\n",
    "mismatch <- bim[!(SNP %in% info.match |\n",
    "                  SNP %in% com.snps |\n",
    "                  SNP %in% recode.snps |\n",
    "                  SNP %in% com.recode), SNP]\n",
    "\n",
    "# Save the mismatch list to the data directory\n",
    "write.table(mismatch, file.path(data_dir, \"EUR.mismatch\"), quote = FALSE, row.names = FALSE, col.names = FALSE)"
   ]
  },
  {
   "cell_type": "markdown",
   "id": "03a83cb6-8acd-4600-8d42-8b53589adeb7",
   "metadata": {},
   "source": [
    "The **EUR.a1** file to update the A1 alleles."
   ]
  },
  {
   "cell_type": "markdown",
   "id": "10a51e63-cf06-4d60-aa12-baf78b48a274",
   "metadata": {},
   "source": [
    "#### Duplicate SNPs"
   ]
  },
  {
   "cell_type": "markdown",
   "id": "c542a1ad-95b8-4a07-9228-c0c0d1492e2b",
   "metadata": {},
   "source": [
    "Make sure to remove any duplicate SNPs in your target data (these target data were simulated and so include no duplicated SNPs)."
   ]
  },
  {
   "cell_type": "markdown",
   "id": "f9bfbcd6-4123-44c5-a697-f17e54c587bf",
   "metadata": {},
   "source": [
    "#### Sex chromosomes"
   ]
  },
  {
   "cell_type": "markdown",
   "id": "b2cdc07e-e9c8-4ec4-8b9c-e60d1f12c82f",
   "metadata": {},
   "source": [
    "Sometimes sample mislabelling can occur, which leads to invalid results. One indication of a mislabelled sample is a difference between reported sex and that indicated by the sex chromosomes. While this may be due to a difference in sex and gender identity, it could also reflect mislabeling of samples or misreporting and, thus, individuals in which there is a mismatch between biological and reported sex are typically removed. A sex check can be performed in PLINK, in which individuals are called as females if their X chromosome homozygosity estimate (F statistic) is < 0.2 and as males if the estimate is > 0.8.\n",
    "\n",
    "Before performing a sex check, pruning should be performed. A sex check can then easily be conducted using `plink`."
   ]
  },
  {
   "cell_type": "code",
   "execution_count": 19,
   "id": "662ec2f1-4bbc-4391-899a-ef3c8832c8ca",
   "metadata": {},
   "outputs": [
    {
     "name": "stdout",
     "output_type": "stream",
     "text": [
      "[1] \"plink --bfile /Users/msoliai/Documents/test/PGS-of-height/data/EUR --extract /Users/msoliai/Documents/test/PGS-of-height/data/EUR.QC.prune.in --keep /Users/msoliai/Documents/test/PGS-of-height/data/EUR.valid.sample --check-sex --out /Users/msoliai/Documents/test/PGS-of-height/data/EUR.QC\"\n"
     ]
    }
   ],
   "source": [
    "# Perform a sex check using plink\n",
    "\n",
    "# Define the path to the PLINK executable and data directory\n",
    "plink_executable <- \"plink\"\n",
    "data_dir <- paste0(project_root, \"/data\")\n",
    "\n",
    "# Construct the PLINK command with the correct paths\n",
    "command <- paste(plink_executable,\n",
    "                 \"--bfile\", file.path(data_dir, \"EUR\"),\n",
    "                 \"--extract\", file.path(data_dir, \"EUR.QC.prune.in\"),\n",
    "                 \"--keep\", file.path(data_dir, \"EUR.valid.sample\"),\n",
    "                 \"--check-sex\",\n",
    "                 \"--out\", file.path(data_dir, \"EUR.QC\"))\n",
    "\n",
    "# Print the command to verify\n",
    "print(command)\n",
    "\n",
    "# Run the command\n",
    "system(command)"
   ]
  },
  {
   "cell_type": "markdown",
   "id": "06493c13-5e97-4334-b07d-d72a142cb166",
   "metadata": {},
   "source": [
    "This will generate a file called **EUR.QC.sexcheck** containing the F-statistics for each individual. Individuals are typically called as being biologically male if the F-statistic is > 0.8 and biologically female if F < 0.2."
   ]
  },
  {
   "cell_type": "code",
   "execution_count": 20,
   "id": "f00a1a00-0086-4bc5-96d1-fd7044ab29d6",
   "metadata": {},
   "outputs": [],
   "source": [
    "# Define the data directory\n",
    "data_dir <- paste0(project_root, \"/data\")\n",
    "\n",
    "# Read in the valid sample file from the data directory\n",
    "valid <- fread(file.path(data_dir, \"EUR.valid.sample\"))\n",
    "\n",
    "# Read in the sexcheck file from the data directory and filter based on valid family IDs\n",
    "dat <- fread(file.path(data_dir, \"EUR.QC.sexcheck\"))[FID %in% valid$FID]\n",
    "\n",
    "# Write the filtered output to the data directory\n",
    "fwrite(dat[STATUS == \"OK\", c(\"FID\", \"IID\")], file.path(data_dir, \"EUR.QC.valid\"), sep = \"\\t\")"
   ]
  },
  {
   "cell_type": "markdown",
   "id": "4cc50caf-ddf0-4f3f-8cda-8a046a432e46",
   "metadata": {},
   "source": [
    "- `4` samples were excluded"
   ]
  },
  {
   "cell_type": "markdown",
   "id": "a922e7cf-3c6f-454a-99fe-e85e0ef17e5c",
   "metadata": {},
   "source": [
    "#### Sample overlap"
   ]
  },
  {
   "cell_type": "markdown",
   "id": "3692cf88-08bd-4b39-9d2a-9f8b2a400e4a",
   "metadata": {},
   "source": [
    "Since the target data were simulated there are no overlapping samples between the base and target data here"
   ]
  },
  {
   "cell_type": "markdown",
   "id": "57d67944-09c8-40f4-a1d8-611dbb67acb5",
   "metadata": {},
   "source": [
    "#### Relatedness"
   ]
  },
  {
   "cell_type": "markdown",
   "id": "d7bbb40b-3555-4d81-83ce-7c15b0e12831",
   "metadata": {},
   "source": [
    "Closely related individuals in the target data may lead to overfitted results, limiting the generalisability of the results.\n",
    "\n",
    "Before calculating the relatedness, pruning should be performed (see here). Individuals that have a first or second degree relative in the sample ($\\hat{\\pi}$ > 0.125) can be removed with the following command:"
   ]
  },
  {
   "cell_type": "code",
   "execution_count": 21,
   "id": "bcca66ae-f3e5-43e5-8de6-0f4cc585e58b",
   "metadata": {},
   "outputs": [
    {
     "name": "stdout",
     "output_type": "stream",
     "text": [
      "[1] \"plink --bfile /Users/msoliai/Documents/test/PGS-of-height/data/EUR --extract /Users/msoliai/Documents/test/PGS-of-height/data/EUR.QC.prune.in --keep /Users/msoliai/Documents/test/PGS-of-height/data/EUR.QC.valid --rel-cutoff 0.125 --out /Users/msoliai/Documents/test/PGS-of-height/data/EUR.QC\"\n"
     ]
    }
   ],
   "source": [
    "# Define the path to the PLINK executable and data directory\n",
    "plink_executable <- \"plink\"\n",
    "data_dir <- paste0(project_root, \"/data\")\n",
    "\n",
    "# Construct the PLINK command with the correct paths\n",
    "command <- paste(plink_executable,\n",
    "                 \"--bfile\", file.path(data_dir, \"EUR\"),\n",
    "                 \"--extract\", file.path(data_dir, \"EUR.QC.prune.in\"),\n",
    "                 \"--keep\", file.path(data_dir, \"EUR.QC.valid\"),\n",
    "                 \"--rel-cutoff 0.125\",\n",
    "                 \"--out\", file.path(data_dir, \"EUR.QC\"))\n",
    "\n",
    "# Print the command to verify\n",
    "print(command)\n",
    "\n",
    "# Run the command\n",
    "system(command)"
   ]
  },
  {
   "cell_type": "markdown",
   "id": "42bceaf9-c966-46fa-a825-4573c113e426",
   "metadata": {},
   "source": [
    "- `0` samples were excluded\n",
    "\n",
    "A greedy algorithm is used to remove closely related individuals in a way that optimizes the size of the sample retained. However, the algorithm is dependent on the random seed used, which can generate different results. Therefore, to reproduce the same result, you will need to specify the same random seed.\n",
    "\n",
    "PLINK's algorithm for removing related individuals does not account for the phenotype under study. To minimize the removal of cases of a disease, the following algorithm can be used instead: [GreedyRelated](https://gitlab.com/choishingwan/GreedyRelated)."
   ]
  },
  {
   "cell_type": "markdown",
   "id": "5b2f16c1-1a90-4b1f-bfc3-10afd418afa4",
   "metadata": {},
   "source": [
    "### Generate final QC'ed target data file"
   ]
  },
  {
   "cell_type": "markdown",
   "id": "90f8ad34-68dd-4882-82ad-577de83e31b4",
   "metadata": {},
   "source": [
    "After performing the full analysis, A final QC'd dataset can be generated."
   ]
  },
  {
   "cell_type": "code",
   "execution_count": 22,
   "id": "f94c2322-1cb2-4b89-9d2a-8bf83cb3872a",
   "metadata": {},
   "outputs": [
    {
     "name": "stdout",
     "output_type": "stream",
     "text": [
      "[1] \"plink --bfile /Users/msoliai/Documents/test/PGS-of-height/data/EUR --make-bed --keep /Users/msoliai/Documents/test/PGS-of-height/data/EUR.QC.rel.id --out /Users/msoliai/Documents/test/PGS-of-height/data/EUR.QC --extract /Users/msoliai/Documents/test/PGS-of-height/data/EUR.QC.snplist --exclude /Users/msoliai/Documents/test/PGS-of-height/data/EUR.mismatch --a1-allele /Users/msoliai/Documents/test/PGS-of-height/data/EUR.a1\"\n"
     ]
    }
   ],
   "source": [
    "# Define the path to the PLINK executable and data directory\n",
    "plink_executable <- \"plink\"\n",
    "data_dir <- paste0(project_root, \"/data\")\n",
    "\n",
    "# Construct the PLINK command with the correct paths\n",
    "command <- paste(plink_executable,\n",
    "                 \"--bfile\", file.path(data_dir, \"EUR\"),\n",
    "                 \"--make-bed\",\n",
    "                 \"--keep\", file.path(data_dir, \"EUR.QC.rel.id\"),\n",
    "                 \"--out\", file.path(data_dir, \"EUR.QC\"),\n",
    "                 \"--extract\", file.path(data_dir, \"EUR.QC.snplist\"),\n",
    "                 \"--exclude\", file.path(data_dir, \"EUR.mismatch\"),\n",
    "                 \"--a1-allele\", file.path(data_dir, \"EUR.a1\"))\n",
    "\n",
    "# Print the command to verify\n",
    "print(command)\n",
    "\n",
    "# Run the command\n",
    "system(command)"
   ]
  },
  {
   "cell_type": "markdown",
   "id": "8f62c1fc-9f65-4366-a066-4a064c83d1c4",
   "metadata": {},
   "source": [
    "Each of the parameters corresponds to the following:\n",
    "\n",
    "| Parameter  | Value         | Description                                                                                   |\n",
    "|------------|---------------|-----------------------------------------------------------------------------------------------|\n",
    "| bfile      | EUR           | Informs plink that the input genotype files should have a prefix of EUR                       |\n",
    "| keep       | EUR.QC.rel.id | Informs plink that we only want to keep samples in EUR.QC.rel.id                              |\n",
    "| extract    | EUR.QC.snplist| Informs plink that we only want to use SNPs in EUR.QC.snplist in the analysis                 |\n",
    "| exclude    | EUR.mismatch  | Informs plink that we wish to remove any SNPs in EUR.mismatch                                 |\n",
    "| a1-allele  | EUR.a1        | Fix all A1 alleles to those specified in EUR.a1                                               |\n",
    "| out        | EUR.QC        | Informs plink that all output should have a prefix of EUR.QC                                  |\n"
   ]
  },
  {
   "cell_type": "markdown",
   "id": "df4d1ad9-c422-41b5-9eb4-da3156c5792b",
   "metadata": {},
   "source": [
    "<a id=\"PRS\"></a>\n",
    "## 7. PRS Calculation and Analysis"
   ]
  },
  {
   "cell_type": "markdown",
   "id": "cadafcf0-554e-4c03-9948-4fcd2772eca5",
   "metadata": {},
   "source": [
    "PRSs will be calculated from the base and target datasets that were QC'd in the previous sections using four different software packages:\n",
    "\n",
    "1. [PLINK](#PLINK)\n",
    "2. [PRSice-2](#PRSice-2)\n",
    "3. [LDPred-2](#LDPred-2)\n",
    "4. [lassosum](#lassosum)"
   ]
  },
  {
   "cell_type": "markdown",
   "id": "e8ca5be0-a32c-4f93-bd0d-6256cd80c3e1",
   "metadata": {},
   "source": [
    "<a id=\"PLINK\"></a>\n",
    "### Calculating PRSs using PLINK"
   ]
  },
  {
   "cell_type": "markdown",
   "id": "bb45846e-bf08-4798-b0d0-4b8a35490abe",
   "metadata": {},
   "source": [
    "Here, PRSs will be calculated using `plink` - while `plink` is not a dedicated PRS software, it can perform the required steps of the C+T approach. This is a multi-step process, but is a good way to learn the processes involved in computing PRSs, which are typically performed automatically using PRS software."
   ]
  },
  {
   "cell_type": "markdown",
   "id": "208da440-da2d-4ade-b0ea-184528fa911e",
   "metadata": {},
   "source": [
    "#### Required Data"
   ]
  },
  {
   "cell_type": "markdown",
   "id": "0174a0aa-9050-4fb3-9bb8-ead61bdc6325",
   "metadata": {},
   "source": [
    "In the previous sections, we have generated the following files:\n",
    "\n",
    "| File Name    | Description                                         |\n",
    "|--------------|-----------------------------------------------------|\n",
    "| Height.QC.gz | The post-QCed summary statistic                     |\n",
    "| EUR.QC.bed   | The genotype file after performing some basic filtering |\n",
    "| EUR.QC.bim   | This file contains the SNPs that passed the basic filtering |\n",
    "| EUR.QC.fam   | This file contains the samples that passed the basic filtering |\n",
    "| EUR.height   | This file contains the phenotype of the samples    |\n",
    "| EUR.cov      | This file contains the covariates of the samples   |\n"
   ]
  },
  {
   "cell_type": "markdown",
   "id": "a4adda9d-eb00-4118-bf8c-55d6af55d42b",
   "metadata": {},
   "source": [
    "#### Update Effect Size"
   ]
  },
  {
   "cell_type": "markdown",
   "id": "73a0f6bf-f4c1-40b0-9d1f-98bf7a81b50a",
   "metadata": {},
   "source": [
    "When the effect size relates to disease risk and is thus given as an odds ratio (OR), rather than BETA (for continuous traits), then the PRS is computed as a product of ORs. To simplify this calculation, we take the natural logarithm of the OR so that the PRS can be computed using summation instead (which can be back-transformed afterwards)."
   ]
  },
  {
   "cell_type": "code",
   "execution_count": 23,
   "id": "8270ad02-d416-4c59-99c5-ce45874e1275",
   "metadata": {},
   "outputs": [],
   "source": [
    "# Define the data directory\n",
    "data_dir <- paste0(project_root, \"/data\")\n",
    "\n",
    "# Read in base data from the data directory\n",
    "dat <- fread(file.path(data_dir, \"Height.gwas.qc.txt\"))\n",
    "\n",
    "# Transform ORs and write the output to the data directory\n",
    "fwrite(dat[, BETA := log(OR)], file.path(data_dir, \"Height.QC.Transformed\"), sep = \"\\t\")"
   ]
  },
  {
   "cell_type": "markdown",
   "id": "bd5a0292-a714-4f77-80ed-bc990deab73b",
   "metadata": {},
   "source": [
    "#### LD Clumping"
   ]
  },
  {
   "cell_type": "markdown",
   "id": "848ce892-c777-4cc9-9c9b-f53c01caa714",
   "metadata": {},
   "source": [
    "Linkage disequilibrium, which corresponds to the correlation between the genotypes of genetic variants across the genome, makes identifying the contribution from causal independent genetic variants extremely challenging. \n",
    "\n",
    "One way of approximately capturing the right level of causal signal is to perform LD clumping, which removes SNPs in ways that only weakly correlated SNPs are retained but preferentially retaining the SNPs most associated with the phenotype under study."
   ]
  },
  {
   "cell_type": "code",
   "execution_count": 24,
   "id": "957c7210-994b-4bda-a4aa-4dc7771e73e8",
   "metadata": {},
   "outputs": [
    {
     "name": "stdout",
     "output_type": "stream",
     "text": [
      "[1] \"plink --bfile /Users/msoliai/Documents/test/PGS-of-height/data/EUR.QC --clump-p1 1 --clump-r2 0.1 --clump-kb 250 --clump /Users/msoliai/Documents/test/PGS-of-height/data/Height.QC.Transformed --clump-snp-field SNP --clump-field P --out /Users/msoliai/Documents/test/PGS-of-height/data/EUR\"\n"
     ]
    }
   ],
   "source": [
    "# Define the path to the PLINK executable and data directory\n",
    "plink_executable <- \"plink\"\n",
    "data_dir <- paste0(project_root, \"/data\")\n",
    "\n",
    "# Construct the PLINK command with the correct paths\n",
    "command <- paste(plink_executable,\n",
    "                 \"--bfile\", file.path(data_dir, \"EUR.QC\"),\n",
    "                 \"--clump-p1 1\",\n",
    "                 \"--clump-r2 0.1\",\n",
    "                 \"--clump-kb 250\",\n",
    "                 \"--clump\", file.path(data_dir, \"Height.QC.Transformed\"),\n",
    "                 \"--clump-snp-field SNP\",\n",
    "                 \"--clump-field P\",\n",
    "                 \"--out\", file.path(data_dir, \"EUR\"))\n",
    "\n",
    "# command <- paste(plink_executable,\n",
    "#                  \"--bfile\", file.path(data_dir, \"EUR.QC\"),\n",
    "#                  \"--clump\", file.path(data_dir, \"EUR.summary.stats\"),\n",
    "#                  \"--clump-p1 1e-5\",\n",
    "#                  \"--clump-r2 0.1\",\n",
    "#                  \"--clump-kb 250\",\n",
    "#                  \"--out\", file.path(data_dir, \"EUR.clumped\"))\n",
    "\n",
    "# Print the command to verify\n",
    "print(command)\n",
    "\n",
    "# Run the command\n",
    "system(command)"
   ]
  },
  {
   "cell_type": "markdown",
   "id": "98f566d4-0759-4ee4-8c17-99013c78a3ad",
   "metadata": {},
   "source": [
    "Each of the parameters corresponds to the following:\n",
    "\n",
    "| Parameter       | Value                | Description                                                                                      |\n",
    "|-----------------|----------------------|--------------------------------------------------------------------------------------------------|\n",
    "| clump-p1        | 1                    | P-value threshold for a SNP to be included as an index SNP. 1 is selected such that all SNPs are included for clumping |\n",
    "| clump-r2        | 0.1                  | SNPs having \\(r^2\\) higher than 0.1 with the index SNPs will be removed                          |\n",
    "| clump-kb        | 250                  | SNPs within 250k of the index SNP are considered for clumping                                    |\n",
    "| clump           | Height.QC.Transformed| Base data (summary statistic) file containing the P-value information                            |\n",
    "| clump-snp-field | SNP                  | Specifies that the column SNP contains the SNP IDs                                               |\n",
    "| clump-field     | P                    | Specifies that the column P contains the P-value information                                     |\n",
    "\n",
    "A more detailed description of the clumping process can be found [here](https://www.cog-genomics.org/plink/1.9/postproc#clump).\n",
    "\n",
    "Note: The *r*<sup>2</sup> values computed by --clump are based on maximum likelihood haplotype frequency estimates\n",
    "\n",
    "This will generate **EUR.clumped**, containing the index SNPs after clumping is performed."
   ]
  },
  {
   "cell_type": "code",
   "execution_count": 25,
   "id": "5267f908-c4b0-4e5e-abff-e76bc548d12f",
   "metadata": {},
   "outputs": [],
   "source": [
    "# Define the data directory\n",
    "data_dir <- paste0(project_root, \"/data\")\n",
    "\n",
    "# Extract the index SNP IDs\n",
    "\n",
    "# Read the data from 'EUR.clumped' in the data directory, assuming it's tab-delimited\n",
    "# If your file has a different delimiter, adjust 'sep' accordingly\n",
    "# data <- read.table(file.path(data_dir, \"EUR.clumped\"), header = TRUE, sep = \"\\t\")\n",
    "data <- fread(file.path(data_dir, \"EUR.clumped\"))\n",
    "\n",
    "# Select the third column (assuming it's named as in your file or you know the name)\n",
    "# If you're not sure about the column name, you can use data[,3] to select the third column by index\n",
    "valid_snp <- data[, 3]\n",
    "\n",
    "# Write the selected column to 'EUR.valid.snp' in the data directory without row names or column header\n",
    "write.table(valid_snp, file.path(data_dir, \"EUR.valid.snp\"), row.names = FALSE, col.names = FALSE, quote = FALSE)"
   ]
  },
  {
   "cell_type": "markdown",
   "id": "48bd1b85-360b-4d94-afca-8e5f80dcdce9",
   "metadata": {},
   "source": [
    "If the target data are small (e.g. N < 500) then the 1000 Genomes Project samples for the LD calculation. Make sure to use the population that most closely reflects represents the base sample."
   ]
  },
  {
   "cell_type": "markdown",
   "id": "298621d3-3ac3-48c5-bcbe-f6baf1d734a9",
   "metadata": {},
   "source": [
    "#### Generate PRS"
   ]
  },
  {
   "cell_type": "markdown",
   "id": "261a1b25-7a6f-40c1-a22b-67d4a0861cfe",
   "metadata": {},
   "source": [
    "plink provides a convenient function --score and --q-score-range for calculating polygenic scores.\n",
    "\n",
    "We will need three files:\n",
    "\n",
    "1. The base data file: **Height.QC.Transformed**\n",
    "2. A file containing SNP IDs and their corresponding P-values\n",
    "3. A file containing the different P-value thresholds for inclusion of SNPs in the PRS."
   ]
  },
  {
   "cell_type": "code",
   "execution_count": 26,
   "id": "7cd0886b-3685-4221-a232-58609a4ca03e",
   "metadata": {},
   "outputs": [],
   "source": [
    "# Define the data directory\n",
    "data_dir <- paste0(project_root, \"/data\")\n",
    "\n",
    "# Create a file containing SNP IDs and their corresponding P-values (file 2)\n",
    "\n",
    "# Load the data from the data directory\n",
    "data <- fread(file.path(data_dir, \"Height.QC.Transformed\"))\n",
    "\n",
    "# Select the SNP and P columns\n",
    "selected_data <- data[, .(SNP, P)]\n",
    "\n",
    "# Write the selected columns to a new file in the data directory\n",
    "fwrite(selected_data, file.path(data_dir, \"SNP.pvalue\"), sep = \" \", col.names = FALSE)"
   ]
  },
  {
   "cell_type": "code",
   "execution_count": 27,
   "id": "0a572f69-28ca-48cb-b928-0b8b5ec0d1aa",
   "metadata": {},
   "outputs": [],
   "source": [
    "# Define the data directory\n",
    "data_dir <- paste0(project_root, \"/data\")\n",
    "\n",
    "# Create a list with varying P-value thresholds (file 3)\n",
    "\n",
    "lines <- c(\n",
    "  \"0.001 0 0.001\",\n",
    "  \"0.05 0 0.05\",\n",
    "  \"0.1 0 0.1\",\n",
    "  \"0.2 0 0.2\",\n",
    "  \"0.3 0 0.3\",\n",
    "  \"0.4 0 0.4\",\n",
    "  \"0.5 0 0.5\"\n",
    ")\n",
    "\n",
    "# Write the lines to 'range_list' in the data directory\n",
    "writeLines(lines, file.path(data_dir, \"range_list\"))"
   ]
  },
  {
   "cell_type": "code",
   "execution_count": 28,
   "id": "1982ec17-2720-4ffa-8e4b-5071825a761a",
   "metadata": {},
   "outputs": [
    {
     "name": "stdout",
     "output_type": "stream",
     "text": [
      "[1] \"plink --bfile /Users/msoliai/Documents/test/PGS-of-height/data/EUR.QC --score /Users/msoliai/Documents/test/PGS-of-height/data/Height.QC.Transformed 3 4 12 header --q-score-range /Users/msoliai/Documents/test/PGS-of-height/data/range_list /Users/msoliai/Documents/test/PGS-of-height/data/SNP.pvalue --extract /Users/msoliai/Documents/test/PGS-of-height/data/EUR.valid.snp --out /Users/msoliai/Documents/test/PGS-of-height/data/EUR\"\n"
     ]
    }
   ],
   "source": [
    "# Define the path to the PLINK executable and data directory\n",
    "plink_executable <- \"plink\"\n",
    "data_dir <- paste0(project_root, \"/data\")\n",
    "\n",
    "# Construct the PLINK command with the correct paths\n",
    "command <- paste(plink_executable,\n",
    "                 \"--bfile\", file.path(data_dir, \"EUR.QC\"),\n",
    "                 \"--score\", file.path(data_dir, \"Height.QC.Transformed\"), \"3 4 12 header\",\n",
    "                 \"--q-score-range\", file.path(data_dir, \"range_list\"), file.path(data_dir, \"SNP.pvalue\"),\n",
    "                 \"--extract\", file.path(data_dir, \"EUR.valid.snp\"),\n",
    "                 \"--out\", file.path(data_dir, \"EUR\"))\n",
    "\n",
    "# Print the command to verify\n",
    "print(command)\n",
    "\n",
    "# Run the command\n",
    "system(command)"
   ]
  },
  {
   "cell_type": "markdown",
   "id": "bc565dc2-982b-4051-ac2b-94b3c17f704f",
   "metadata": {},
   "source": [
    "| Parameter       | Value                         | Description                                                                                                                                               |\n",
    "|-----------------|-------------------------------|-----------------------------------------------------------------------------------------------------------------------------------------------------------|\n",
    "| score           | Height.QC.Transformed 3 4 12 header | We read from the Height.QC.Transformed file, assuming that the 3rd column is the SNP ID; 4th column is the effective allele information; the 12th column is the effect size estimate; and that the file contains a header |\n",
    "| q-score-range   | range_list SNP.pvalue         | We want to calculate PRS based on the thresholds defined in range_list, where the threshold values (P-values) were stored in SNP.pvalue                   |\n",
    "\n",
    "\n",
    "The above command and range_list will generate 7 files:\n",
    "\n",
    "1. EUR.0.5.profile\n",
    "2. EUR.0.4.profile\n",
    "3. EUR.0.3.profile\n",
    "4. EUR.0.2.profile\n",
    "5. EUR.0.1.profile\n",
    "6. EUR.0.05.profile\n",
    "7. EUR.0.001.profile\n",
    "\n",
    "Note: The default formula for PRS calculation in PLINK is:\n",
    "\n",
    "$$\n",
    "PRS_j = \\sum_{i=1}^{N} S_i * G_{ij} * P * M_j\n",
    "$$\n",
    "\n",
    "where:\n",
    "- S<sub>i</sub> is the effect size of SNP *i*,\n",
    "- G<sub>ij</sub> is the number of effect alleles observed in sample *j* for SNP *i*,\n",
    "- *P* is the ploidy of the sample, which is generally *2* for humans,\n",
    "- *N* is the total number of SNPs included in the PRS calculation,\n",
    "- M<sub>j</sub> is the number of non-missing SNPs observed in sample *j*.\n",
    "\n",
    "If the sample has a missing genotype for SNP<sub>*i*</sub>, then the population minor allele frequency multiplied by the ploidy (MAF<sub>i</sub> * *P*) is used instead of G<sub>ij</sub>."
   ]
  },
  {
   "cell_type": "markdown",
   "id": "0da95562-240e-4983-9721-6e1c1f9e95a7",
   "metadata": {},
   "source": [
    "#### Accounting for Population Stratification"
   ]
  },
  {
   "cell_type": "markdown",
   "id": "e871c810-36e9-49b8-b61d-f74ce546c301",
   "metadata": {},
   "source": [
    "Population structure is the principal source of confounding in GWAS and is usually accounted for by incorporating principal components (PCs) as covariates. We can incorporate PCs into the PRS analysis to account for population stratification."
   ]
  },
  {
   "cell_type": "code",
   "execution_count": 29,
   "id": "ac4f7e97-18c3-4291-b752-791c8ed6edca",
   "metadata": {},
   "outputs": [
    {
     "name": "stdout",
     "output_type": "stream",
     "text": [
      "[1] \"plink --bfile /Users/msoliai/Documents/test/PGS-of-height/data/EUR.QC --indep-pairwise 200 50 0.25 --out /Users/msoliai/Documents/test/PGS-of-height/data/EUR\"\n",
      "[1] \"plink --bfile /Users/msoliai/Documents/test/PGS-of-height/data/EUR.QC --extract /Users/msoliai/Documents/test/PGS-of-height/data/EUR.prune.in --pca 6 --out /Users/msoliai/Documents/test/PGS-of-height/data/EUR\"\n"
     ]
    }
   ],
   "source": [
    "# Calculate PCs\n",
    "\n",
    "# Define the path to the PLINK executable and data directory\n",
    "plink_executable <- \"plink\"\n",
    "data_dir <- paste0(project_root, \"/data\")\n",
    "\n",
    "# First, perform pruning\n",
    "command1 <- paste(plink_executable,\n",
    "                  \"--bfile\", file.path(data_dir, \"EUR.QC\"),\n",
    "                  \"--indep-pairwise 200 50 0.25\",\n",
    "                  \"--out\", file.path(data_dir, \"EUR\"))\n",
    "# Print the first command to verify\n",
    "print(command1)\n",
    "\n",
    "# Run the first command\n",
    "system(command1)\n",
    "\n",
    "# Second, calculate the first 6 PCs\n",
    "command2 <- paste(plink_executable,\n",
    "                  \"--bfile\", file.path(data_dir, \"EUR.QC\"),\n",
    "                  \"--extract\", file.path(data_dir, \"EUR.prune.in\"),\n",
    "                  \"--pca 6\",\n",
    "                  \"--out\", file.path(data_dir, \"EUR\"))\n",
    "\n",
    "# Print the second command to verify\n",
    "print(command2)\n",
    "\n",
    "# Run the second command\n",
    "system(command2)"
   ]
  },
  {
   "cell_type": "markdown",
   "id": "a848ab14-6c28-421b-ade1-6274eefe8b0e",
   "metadata": {},
   "source": [
    "**Note**: One way to select the appropriate number of PCs is to perform GWAS on the phenotype under study with different numbers of PCs. LDSC analysis can then be performed on the set of GWAS summary statistics and the GWAS that used the number of PCs that gave an [LDSC](https://github.com/bulik/ldsc) intercept closest to 1 should correspond to that for which population structure was most accurately controlled for.\n",
    "\n",
    "Here the PCs have been stored in the EUR.eigenvec file and can be used as covariates in the regression model to account for population stratification.\n",
    "\n",
    "**Important**: If the base and target samples are collected from different worldwide populations then the results from the PRS analysis may be biased "
   ]
  },
  {
   "cell_type": "markdown",
   "id": "8e8dedfa-b9f0-4adf-9e57-507824601d1b",
   "metadata": {},
   "source": [
    "#### Finding the \"best-fit\" PRS"
   ]
  },
  {
   "cell_type": "markdown",
   "id": "8c1124ec-93c0-40ac-ba64-095ae6c8e5f8",
   "metadata": {},
   "source": [
    "The P-value threshold that provides the \"best-fit\" PRS under the C+T method is usually unknown. To approximate the \"best-fit\" PRS, we can perform a regression between PRS calculated at a range of P-value thresholds and then select the PRS that explains the highest phenotypic variance."
   ]
  },
  {
   "cell_type": "code",
   "execution_count": 30,
   "id": "4aee2b77-d741-4c9e-bda8-528eed0d4d2c",
   "metadata": {},
   "outputs": [
    {
     "name": "stdout",
     "output_type": "stream",
     "text": [
      "  Threshold        R2           P     BETA       SE\n",
      "5       0.3 0.1612372 2.77407e-25 45316.19 4107.777\n"
     ]
    }
   ],
   "source": [
    "# Define the data directory\n",
    "data_dir <- paste0(project_root, \"/data\")\n",
    "\n",
    "# Define P-value thresholds\n",
    "p.threshold <- c(0.001, 0.05, 0.1, 0.2, 0.3, 0.4, 0.5)\n",
    "\n",
    "# Read in phenotype, PCs, and covariate data from the data directory\n",
    "phenotype <- fread(file.path(data_dir, \"EUR.height\"))\n",
    "pcs <- fread(file.path(data_dir, \"EUR.eigenvec\"), header = FALSE) %>%\n",
    "    setnames(., colnames(.), c(\"FID\", \"IID\", paste0(\"PC\", 1:6)))\n",
    "covariate <- fread(file.path(data_dir, \"EUR.cov\"))\n",
    "\n",
    "# Merge phenotype, covariate, and PCs data\n",
    "pheno <- merge(phenotype, covariate) %>%\n",
    "    merge(., pcs)\n",
    "\n",
    "# Calculate null R-squared value\n",
    "null.r2 <- summary(lm(Height ~ ., data = pheno[, -c(\"FID\", \"IID\")]))$r.squared\n",
    "\n",
    "# Initialize result dataframe\n",
    "prs.result <- NULL\n",
    "\n",
    "# Loop over P-value thresholds and calculate PRS\n",
    "for (i in p.threshold) {\n",
    "    pheno.prs <- fread(file.path(data_dir, paste0(\"EUR.\", i, \".profile\"))) %>%\n",
    "        .[, c(\"FID\", \"IID\", \"SCORE\")] %>%\n",
    "        merge(., pheno, by = c(\"FID\", \"IID\"))\n",
    "    \n",
    "    model <- lm(Height ~ ., data = pheno.prs[, -c(\"FID\", \"IID\")]) %>%\n",
    "        summary\n",
    "    model.r2 <- model$r.squared\n",
    "    prs.r2 <- model.r2 - null.r2\n",
    "    prs.coef <- model$coefficients[\"SCORE\", ]\n",
    "    prs.result <- rbind(prs.result,\n",
    "                        data.frame(Threshold = i, R2 = prs.r2,\n",
    "                                   P = as.numeric(prs.coef[\"Pr(>|t|)\"]),\n",
    "                                   BETA = as.numeric(prs.coef[\"Estimate\"]),\n",
    "                                   SE = as.numeric(prs.coef[\"Std. Error\"])))\n",
    "}\n",
    "\n",
    "# Print the result with the maximum R2\n",
    "print(prs.result[which.max(prs.result$R2), ])"
   ]
  },
  {
   "cell_type": "markdown",
   "id": "d8081f1a-be0c-4b85-a793-1e47a2ad6f37",
   "metadata": {},
   "source": [
    "- P-value threshold of 0.3 generates the \"best-fit\" PRS.\n",
    "- 0.16 of the phenotypic variation is explained by the \"best-fit\" PRS."
   ]
  },
  {
   "cell_type": "markdown",
   "id": "9db18c46-2844-4be2-ab4f-a8887770150f",
   "metadata": {},
   "source": [
    "<a id=\"PRSice-2\"></a>\n",
    "### Calculating PRSs using PRSice-2"
   ]
  },
  {
   "cell_type": "markdown",
   "id": "13e862ee-5dca-41c9-862b-5fe93a9b83ae",
   "metadata": {},
   "source": [
    "PRSice-2 is one of the dedicated PRS programs which automates many of the steps from the previous page that used a sequence of PLINK functions (plus some QC steps). In this section PRS analysis will be run using PRSice-2, which implements the standard C+T method."
   ]
  },
  {
   "cell_type": "markdown",
   "id": "7e04ad91-0341-40c6-8725-ab3ab298fec6",
   "metadata": {},
   "source": [
    "#### Required Data"
   ]
  },
  {
   "cell_type": "markdown",
   "id": "6874a4c1-ccfc-4299-83eb-623d42a93a66",
   "metadata": {},
   "source": [
    "This analysis assumes that you have the following files:\n",
    "\n",
    "| File Name     | Description                                                                                      |\n",
    "|---------------|--------------------------------------------------------------------------------------------------|\n",
    "| Height.QC.gz  | The post QC base data file. While PRSice-2 can automatically apply most filtering on the base file, it cannot remove duplicated SNPs |\n",
    "| EUR.QC.bed    | This file contains the genotype data that passed the QC steps                                   |\n",
    "| EUR.QC.bim    | This file contains the list of SNPs that passed the QC steps                                    |\n",
    "| EUR.QC.fam    | This file contains the samples that passed the QC steps                                         |\n",
    "| EUR.height    | This file contains the phenotype data of the samples                                            |\n",
    "| EUR.cov       | This file contains the covariates of the samples                                                |\n",
    "| EUR.eigenvec  | This file contains the principal components (PCs) of the samples                                |\n"
   ]
  },
  {
   "cell_type": "markdown",
   "id": "2209793b-2b0a-45d5-a869-354d389167d9",
   "metadata": {},
   "source": [
    "#### PRS Analysis"
   ]
  },
  {
   "cell_type": "markdown",
   "id": "a8edf215-dcfe-453e-8e21-a75bec5e9d29",
   "metadata": {},
   "source": [
    "To run PRSice-2, the covariates and PCs must be combined into a single file. "
   ]
  },
  {
   "cell_type": "code",
   "execution_count": 31,
   "id": "91e6b041-8ac5-4ed4-ae65-6f04dd980310",
   "metadata": {},
   "outputs": [],
   "source": [
    "# Combine PCs and covariates\n",
    "\n",
    "# Define the data directory\n",
    "data_dir <- paste0(project_root, \"/data\")\n",
    "\n",
    "# Read in covariate and pcs data from the data directory\n",
    "covariate <- fread(file.path(data_dir, \"EUR.cov\"))\n",
    "pcs <- fread(file.path(data_dir, \"EUR.eigenvec\"), header = FALSE)\n",
    "\n",
    "# Set column names for pcs data\n",
    "colnames(pcs) <- c(\"FID\", \"IID\", paste0(\"PC\", 1:6))\n",
    "\n",
    "# Merge covariate and pcs data\n",
    "cov <- merge(covariate, pcs)\n",
    "\n",
    "# Write the merged data to the data directory\n",
    "fwrite(cov, file.path(data_dir, \"EUR.covariate\"), sep = \"\\t\")"
   ]
  },
  {
   "cell_type": "code",
   "execution_count": 32,
   "id": "d2b7cb16-aa7d-4baf-b4af-74a5650bcf97",
   "metadata": {},
   "outputs": [
    {
     "name": "stdout",
     "output_type": "stream",
     "text": [
      "[1] \"Rscript PRSice.R --prsice PRSice_mac --base /Users/msoliai/Documents/test/PGS-of-height/data/Height.QC.gz --target /Users/msoliai/Documents/test/PGS-of-height/data/EUR.QC --binary-target F --pheno /Users/msoliai/Documents/test/PGS-of-height/data/EUR.height --cov /Users/msoliai/Documents/test/PGS-of-height/data/EUR.covariate --base-maf MAF:0.01 --base-info INFO:0.8 --stat OR --or --out /Users/msoliai/Documents/test/PGS-of-height/data/EUR\"\n"
     ]
    }
   ],
   "source": [
    "# Run PRSice-2 to calculate PRSs\n",
    "\n",
    "# Define the path to the PRSice executable, Rscript, and data directory\n",
    "prsice_executable <- \"PRSice_mac\"\n",
    "rscript_executable <- \"Rscript\"\n",
    "data_dir <- paste0(project_root, \"/data\")\n",
    "\n",
    "# Construct the PRSice command with the correct paths\n",
    "command <- paste(rscript_executable, \"PRSice.R\",\n",
    "                 \"--prsice\", prsice_executable,\n",
    "                 \"--base\", file.path(data_dir, \"Height.QC.gz\"),\n",
    "                 \"--target\", file.path(data_dir, \"EUR.QC\"),\n",
    "                 \"--binary-target F\",\n",
    "                 \"--pheno\", file.path(data_dir, \"EUR.height\"),\n",
    "                 \"--cov\", file.path(data_dir, \"EUR.covariate\"),\n",
    "                 \"--base-maf MAF:0.01\",\n",
    "                 \"--base-info INFO:0.8\",\n",
    "                 \"--stat OR --or\",\n",
    "                 \"--out\", file.path(data_dir, \"EUR\"))\n",
    "\n",
    "# Print the command to verify\n",
    "print(command)\n",
    "\n",
    "# Run the command\n",
    "system(command)"
   ]
  },
  {
   "cell_type": "markdown",
   "id": "a1463eb6-d47c-4419-b9f9-e73bb1a3c083",
   "metadata": {},
   "source": [
    "The meaning of the parameters are as follow:\n",
    "\n",
    "| Parameter     | Value         | Description                                                                                       |\n",
    "|---------------|---------------|---------------------------------------------------------------------------------------------------|\n",
    "| prsice        | PRSice_xxx    | Informs PRSice.R that the location of the PRSice binary                                           |\n",
    "| base          | Height.QC.gz  | Informs PRSice that the name of the GWAS summary statistic                                        |\n",
    "| target        | EUR.QC        | Informs PRSice that the input genotype files should have a prefix of EUR.QC                       |\n",
    "| binary-target | F             | Indicate if the phenotype of interest is a binary trait. F for no                                 |\n",
    "| pheno         | EUR.height    | Provide PRSice with the phenotype file                                                            |\n",
    "| cov           | EUR.covariate | Provide PRSice with the covariate file                                                            |\n",
    "| base-maf      | MAF:0.01      | Filter out SNPs with MAF < 0.01 in the GWAS summary statistics, using information in the MAF column |\n",
    "| base-info     | INFO:0.8      | Filter out SNPs with INFO < 0.8 in the GWAS summary statistics, using information in the INFO column |\n",
    "| stat          | OR            | Column name of the column containing the effect size                                              |\n",
    "| or            | -             | Inform PRSice that the effect size is an Odd Ratio                                                |\n",
    "| out           | EUR           | Informs PRSice that all output should have a prefix of EUR                                        |\n",
    "\n",
    "\n",
    "This will automatically perform \"high-resolution scoring\" and generate the \"best-fit\" PRS (in **EUR.best**), with associated plots of the results. \n",
    "\n",
    "**Note**: Users should be careful of overfitting in PRS analyses."
   ]
  },
  {
   "cell_type": "markdown",
   "id": "3747dd3e-cbe4-4d84-98bc-7585c9ac57d6",
   "metadata": {},
   "source": [
    "- P-value threshold of 0.3 generates the \"best-fit\" PRS.\n",
    "- 0.16 of the phenotypic variation is explained by the \"best-fit\" PRS.\n",
    "\n",
    "The PRSice-2 results are nearly the same as the PRSs calculated using `plink`."
   ]
  },
  {
   "cell_type": "code",
   "execution_count": 33,
   "id": "173dbb8b-a388-468b-aa4d-f88db0b28a70",
   "metadata": {},
   "outputs": [
    {
     "name": "stdout",
     "output_type": "stream",
     "text": [
      "Key: <FID, IID>\n",
      "         FID     IID   Height   Sex          PC1        PC2          PC3\n",
      "      <char>  <char>    <num> <int>        <num>      <num>        <num>\n",
      "  1: HG00096 HG00096 169.1322     1  0.000643305  0.0664323 -1.47374e-02\n",
      "  2: HG00097 HG00097 171.2563     2  0.001413780  0.0736016  8.81567e-03\n",
      "  3: HG00099 HG00099 171.5344     2  0.002646810  0.0717702 -2.09757e-02\n",
      "  4: HG00101 HG00101 169.8502     1  0.001697520  0.0854445 -1.56991e-02\n",
      "  5: HG00102 HG00102 172.7884     2  0.004411350  0.0696362  1.75584e-06\n",
      " ---                                                                    \n",
      "468: NA20822 NA20822 170.4051     2 -0.043499900 -0.0474988 -5.34488e-02\n",
      "469: NA20826 NA20826 168.5230     2 -0.040918800 -0.0514963 -5.75904e-02\n",
      "470: NA20827 NA20827 170.9757     1 -0.039482200 -0.0559952 -6.70405e-02\n",
      "471: NA20828 NA20828 170.2220     2 -0.042634700 -0.0471108 -3.39304e-02\n",
      "472: NA20832 NA20832 169.4317     2 -0.039618300 -0.0451507 -4.83255e-02\n",
      "             PC4          PC5         PC6\n",
      "           <num>        <num>       <num>\n",
      "  1: -0.03599560 -1.63573e-02 -0.02093710\n",
      "  2: -0.02058210 -1.16844e-02  0.02240870\n",
      "  3: -0.00608687 -1.41427e-02 -0.00713368\n",
      "  4: -0.00289015 -3.35167e-02 -0.01411770\n",
      "  5: -0.02643000 -4.77571e-02 -0.03144630\n",
      " ---                                     \n",
      "468: -0.00720585  1.06859e-03  0.01230650\n",
      "469: -0.00283644 -3.27647e-06  0.02191920\n",
      "470:  0.01605190  7.84929e-03  0.00125470\n",
      "471:  0.01274760  1.63034e-02 -0.00495284\n",
      "472:  0.00605681  3.60601e-02 -0.00666047\n"
     ]
    }
   ],
   "source": [
    "# Define the data directory\n",
    "data_dir <- paste0(project_root, \"/data\")\n",
    "\n",
    "# Read in the files\n",
    "phenotype <- fread(file.path(data_dir, \"EUR.height\"))\n",
    "covariate <- fread(file.path(data_dir, \"EUR.cov\"))\n",
    "pcs <- fread(file.path(data_dir, \"EUR.eigenvec\"))\n",
    "\n",
    "# Rename columns\n",
    "colnames(pcs) <- c(\"FID\", \"IID\", paste0(\"PC\", 1:6))\n",
    "\n",
    "# Generate required table\n",
    "pheno <- merge(phenotype, covariate) %>% merge(., pcs)\n",
    "\n",
    "# Print the resulting table to verify\n",
    "print(pheno)"
   ]
  },
  {
   "cell_type": "markdown",
   "id": "b80c34d8-dcf9-4da5-a99a-95c928287434",
   "metadata": {},
   "source": [
    "<a id=\"lassosum\"></a>\n",
    "### Calculating PRSs using lassosum"
   ]
  },
  {
   "cell_type": "markdown",
   "id": "e6e49398-3b95-4128-a681-1586189d13a7",
   "metadata": {},
   "source": [
    "`lassosum` is one of the dedicated PRS programs which is an R package that uses penalised regression (LASSO) in its approach to PRS calculation."
   ]
  },
  {
   "cell_type": "markdown",
   "id": "dfeb9d8b-412a-442a-94f7-7cbec1fa51e4",
   "metadata": {},
   "source": [
    "#### Setup Lassosum on system"
   ]
  },
  {
   "cell_type": "markdown",
   "id": "a123e457-3316-4d93-b45c-f669f189e51d",
   "metadata": {},
   "source": [
    "Lassosum requires manual download and installation. This section checks the current system (MacOS, Windows, Linux), downloads the appropriate binaries or source code, installs, then loads the Lassosum library. \n",
    "\n",
    "The code block will first check if lassosum is installed on the system, if not, it will perform the appropriate steps for installation. "
   ]
  },
  {
   "cell_type": "code",
   "execution_count": 34,
   "id": "9ab8a3d4-1065-457b-832e-1df3e3b81016",
   "metadata": {},
   "outputs": [],
   "source": [
    "# Funciton to check if lassosum is installed\n",
    "is_lassosum_installed <- function() {\n",
    "  suppressWarnings(requireNamespace(\"lassosum\", quietly = TRUE))\n",
    "}\n",
    "\n",
    "# Function to download binaries/source code\n",
    "download_file <- function(url, destfile) {\n",
    "  download.file(url, destfile, mode = \"wb\")\n",
    "}\n",
    "\n",
    "# Function to install lassosum based on the operating system\n",
    "install_lassosum <- function() {\n",
    "  # Check the operating system\n",
    "  os <- Sys.info()[\"sysname\"]\n",
    "  \n",
    "  # Define the URLs for the binaries/source code\n",
    "  urls <- list(\n",
    "    macos = \"https://github.com/tshmak/lassosum/releases/download/v0.4.5/lassosum_0.4.5.tar.gz\",\n",
    "    windows = \"https://github.com/tshmak/lassosum/releases/download/v0.4.5/lassosum_0.4.5.zip\",\n",
    "    linux = \"https://github.com/tshmak/lassosum/releases/download/v0.4.5/lassosum_0.4.5.tar.gz\"\n",
    "  )\n",
    "  \n",
    "  # Define the destination files for the binaries/source code\n",
    "  destfiles <- list(\n",
    "    macos = \"../data/lassosum_0.4.5.tar.gz\",\n",
    "    windows = \"../data/lassosum_0.4.5.zip\",\n",
    "    linux = \"../data/lassosum_0.4.5.tar.gz\"\n",
    "  )\n",
    "  \n",
    "  # Select the appropriate URL and destination file based on the os\n",
    "  if (os == \"Darwin\") {\n",
    "    url <- urls$macos\n",
    "    destfile <- destfiles$macos\n",
    "    install_cmd <- paste(\"install.packages('\", destfile, \"', repos = NULL, type = 'source')\", sep = \"\")\n",
    "  } else if (os == \"Windows\") {\n",
    "    url <- urls$windows\n",
    "    destfile <- destfiles$windows\n",
    "    install_cmd <- paste(\"install.packages('\", destfile, \"', repos = NULL)\", sep = \"\")\n",
    "  } else if (os == \"Linux\") {\n",
    "    url <- urls$linux\n",
    "    destfile <- destfiles$linux\n",
    "    install_cmd <- paste(\"install.packages('\", destfile, \"', repos = NULL, type = 'source')\", sep = \"\")\n",
    "  } else {\n",
    "    stop(\"Unsupported operating system\")\n",
    "  }\n",
    "  \n",
    "  # Download the source code\n",
    "  download_file(url, destfile)\n",
    "  \n",
    "  # Install lassosum\n",
    "  eval(parse(text = install_cmd))\n",
    "}\n",
    "\n",
    "# Check if lassosum is installed, if not, install it\n",
    "if (!is_lassosum_installed()) {\n",
    "  install_lassosum()\n",
    "}\n",
    "\n",
    "# Load the lassosum library\n",
    "library(lassosum)"
   ]
  },
  {
   "cell_type": "markdown",
   "id": "065c941f-8789-4ebc-8b0f-ed965b7b1f89",
   "metadata": {},
   "source": [
    "#### Required Data"
   ]
  },
  {
   "cell_type": "markdown",
   "id": "8a0d6615-0b56-4d37-85d3-c582c8d82041",
   "metadata": {},
   "source": [
    "Again, we assume that we have the following files:\n",
    "\n",
    "| File Name     | Description                                         |\n",
    "|---------------|-----------------------------------------------------|\n",
    "| Height.QC.gz  | The post-QCed summary statistic                     |\n",
    "| EUR.QC.bed    | The genotype file after performing some basic filtering |\n",
    "| EUR.QC.bim    | This file contains the SNPs that passed the basic filtering |\n",
    "| EUR.QC.fam    | This file contains the samples that passed the basic filtering |\n",
    "| EUR.height    | This file contains the phenotype of the samples     |\n",
    "| EUR.cov       | This file contains the covariates of the samples    |\n",
    "| EUR.eigenvec  | This file contains the PCs of the samples           |\n",
    "\n"
   ]
  },
  {
   "cell_type": "markdown",
   "id": "748c714a-f080-45ce-9439-fe755fc031e8",
   "metadata": {},
   "source": [
    "#### Running PRS analysis"
   ]
  },
  {
   "cell_type": "code",
   "execution_count": 35,
   "id": "44fc71eb-8285-430e-93f2-58a05cbd1734",
   "metadata": {},
   "outputs": [
    {
     "name": "stdout",
     "output_type": "stream",
     "text": [
      "Coordinating summary stats with reference panel...\n",
      "Coordinating summary stats with test data...\n",
      "Coordinating summary stats, reference panel, and test data...\n",
      "Splitting genome by LD blocks ...\n",
      "Running lassosum ...\n",
      "s =  0.2 \n",
      "s =  0.5 \n",
      "s =  0.9 \n",
      "Running lassosum with s=1...\n",
      "Calculating polygenic scores ...\n"
     ]
    },
    {
     "name": "stderr",
     "output_type": "stream",
     "text": [
      "472 out of 475 samples kept in pheno.\n",
      "\n",
      "472 out of 483 samples kept in covar.\n",
      "\n"
     ]
    },
    {
     "name": "stdout",
     "output_type": "stream",
     "text": [
      "Calculating PGS...\n",
      "[1] \"The amount of phenotypic variation explained by the PRSs is  0.247467861359756\"\n"
     ]
    },
    {
     "data": {
      "image/png": "[encoded data removed]",
      "text/plain": [
       "plot without title"
      ]
     },
     "metadata": {
      "image/png": {
       "height": 420,
       "width": 420
      }
     },
     "output_type": "display_data"
    }
   ],
   "source": [
    "# Define the data directory\n",
    "data_dir <- paste0(project_root, \"/data\")\n",
    "\n",
    "# Invoke 2 threads\n",
    "# cl <- makeCluster(2) # Uncomment if running on whole genome data and adjust the number of threads to invoke\n",
    "\n",
    "sum.stat <- file.path(data_dir, \"Height.gwas.qc.txt\")\n",
    "bfile <- file.path(data_dir, \"EUR.QC\")\n",
    "\n",
    "# Read in and process the covariates\n",
    "covariate <- fread(file.path(data_dir, \"EUR.cov\"))\n",
    "pcs <- fread(file.path(data_dir, \"EUR.eigenvec\")) %>%\n",
    "    setnames(., colnames(.), c(\"FID\", \"IID\", paste0(\"PC\", 1:6)))\n",
    "\n",
    "# Need as.data.frame here as lassosum doesn't handle data.table \n",
    "cov <- merge(covariate, pcs)\n",
    "\n",
    "# We will need the EUR.hg19 file provided by lassosum \n",
    "# which are LD regions defined in Berisa and Pickrell (2015) for the European population and the hg19 genome.\n",
    "ld.file <- \"EUR.hg19\"\n",
    "\n",
    "# Output prefix\n",
    "prefix <- file.path(data_dir, \"EUR\")\n",
    "\n",
    "# Read in the target phenotype file\n",
    "target.pheno <- fread(file.path(data_dir, \"EUR.height\"))[, c(\"FID\", \"IID\", \"Height\")]\n",
    "\n",
    "# Read in the summary statistics\n",
    "ss <- fread(sum.stat)\n",
    "\n",
    "# Remove P-value = 0, which causes problem in the transformation\n",
    "ss <- ss[!P == 0]\n",
    "\n",
    "# Transform the P-values into correlation\n",
    "cor <- p2cor(p = ss$P,\n",
    "             n = ss$N,\n",
    "             sign = log(ss$OR))\n",
    "\n",
    "# Read the .fam file\n",
    "fam <- fread(paste0(bfile, \".fam\"))\n",
    "fam[, ID := do.call(paste, c(.SD, sep = \":\")), .SDcols = c(1:2)]\n",
    "\n",
    "# Run the lassosum pipeline\n",
    "out <- lassosum.pipeline(\n",
    "    cor = cor,\n",
    "    chr = ss$CHR,\n",
    "    pos = ss$BP,\n",
    "    A1 = ss$A1,\n",
    "    A2 = ss$A2,\n",
    "    ref.bfile = bfile,\n",
    "    test.bfile = bfile,\n",
    "    LDblocks = ld.file\n",
    "    #cluster = cl # Uncomment if running on a whole genome dataset\n",
    ")\n",
    "\n",
    "# Store the R2 results\n",
    "target.res <- validate(out, pheno = as.data.frame(target.pheno), covar = as.data.frame(cov))\n",
    "\n",
    "# Get the maximum R2\n",
    "r2 <- max(target.res$validation.table$value)^2\n",
    "\n",
    "print(paste(\"The amount of phenotypic variation explained by the PRSs is \", r2))"
   ]
  },
  {
   "cell_type": "markdown",
   "id": "31a5d1ce-1d84-494a-8c5a-6d43b9092d37",
   "metadata": {},
   "source": [
    "Expected output: The amount of phenotypic variation explained by the PRSs is 0.2474679."
   ]
  },
  {
   "cell_type": "markdown",
   "id": "46ee47e1-e669-4b60-9872-e23221a930fc",
   "metadata": {},
   "source": [
    "<a id=\"Visualization\"></a>\n",
    "## 8. Visualization of PRS Results"
   ]
  },
  {
   "cell_type": "markdown",
   "id": "01833ad7-79ba-41c5-8455-f3dd624ab31e",
   "metadata": {},
   "source": [
    "The PRS results corresponding to a range of P-value thresholds obtained by application of the C+T PRS method (eg. using PLINK or PRSice-2) can be visualised using `R`."
   ]
  },
  {
   "cell_type": "code",
   "execution_count": 36,
   "id": "25f8ad2d-2a0c-4e04-8682-2e4e98e12850",
   "metadata": {},
   "outputs": [
    {
     "data": {
      "image/png": "[encoded data removed]",
      "text/plain": [
       "plot without title"
      ]
     },
     "metadata": {
      "image/png": {
       "height": 420,
       "width": 420
      }
     },
     "output_type": "display_data"
    }
   ],
   "source": [
    "# Define the data directory\n",
    "data_dir <- \"output/figures\"\n",
    "\n",
    "# Generate a pretty format for p-value output\n",
    "prs.result$print.p <- round(prs.result$P, digits = 3)\n",
    "prs.result$print.p[!is.na(prs.result$print.p) & prs.result$print.p == 0] <- \n",
    "    format(prs.result$P[!is.na(prs.result$print.p) & prs.result$print.p == 0], digits = 2)\n",
    "prs.result$print.p <- sub(\"e\", \"*x*10^\", prs.result$print.p)\n",
    "\n",
    "# Initialize ggplot, requiring the threshold as the x-axis (use factor so that it is uniformly distributed)\n",
    "plot <- ggplot(data = prs.result, aes(x = factor(Threshold), y = R2)) +\n",
    "    # Specify that we want to print p-value on top of the bars\n",
    "    geom_text(\n",
    "        aes(label = paste(print.p)),\n",
    "        vjust = -1.5,\n",
    "        hjust = 0,\n",
    "        angle = 45,\n",
    "        cex = 4,\n",
    "        parse = TRUE\n",
    "    ) +\n",
    "    # Specify the range of the plot, *1.25 to provide enough space for the p-values\n",
    "    scale_y_continuous(limits = c(0, max(prs.result$R2) * 1.25)) +\n",
    "    # Specify the axis labels\n",
    "    xlab(expression(italic(P) - value ~ threshold ~ (italic(P)[T]))) +\n",
    "    ylab(expression(paste(\"PRS model fit:  \", R ^ 2))) +\n",
    "    # Draw a bar plot\n",
    "    geom_bar(aes(fill = -log10(P)), stat = \"identity\") +\n",
    "    # Specify the colors\n",
    "    scale_fill_gradient2(\n",
    "        low = \"dodgerblue\",\n",
    "        high = \"firebrick\",\n",
    "        mid = \"dodgerblue\",\n",
    "        midpoint = 1e-4,\n",
    "        name = bquote(atop(-log[10] ~ model, italic(P) - value),)\n",
    "    ) +\n",
    "    # Some beautification of the plot\n",
    "    theme_classic() + theme(\n",
    "        axis.title = element_text(face = \"bold\", size = 18),\n",
    "        axis.text = element_text(size = 14),\n",
    "        legend.title = element_text(face = \"bold\", size = 18),\n",
    "        legend.text = element_text(size = 14),\n",
    "        axis.text.x = element_text(angle = 45, hjust = 1)\n",
    "    )\n",
    "\n",
    "# Print the plot to the notebook\n",
    "print(plot)\n",
    "\n",
    "# Save the plot to the data directory\n",
    "ggsave(file.path(data_dir, \"EUR.height.bar.png\"), plot = plot, height = 7, width = 7)"
   ]
  },
  {
   "cell_type": "markdown",
   "id": "f8cf8f14-49c4-4b95-b0be-3e6c442d190e",
   "metadata": {},
   "source": [
    "In addition, the relationship between the \"best-fit\" PRS (which may have been obtained from any of the PRS programs) and the phenotype of interest, colored by sex:"
   ]
  },
  {
   "cell_type": "code",
   "execution_count": 37,
   "id": "3b36d9ff-3153-40da-b06e-e49e5e2a7a0f",
   "metadata": {},
   "outputs": [
    {
     "data": {
      "image/png": "[encoded data removed]",
      "text/plain": [
       "plot without title"
      ]
     },
     "metadata": {
      "image/png": {
       "height": 420,
       "width": 420
      }
     },
     "output_type": "display_data"
    }
   ],
   "source": [
    "# Load necessary libraries\n",
    "library(ggplot2)\n",
    "\n",
    "# Define the data directory\n",
    "data_dir <- \"data\"\n",
    "\n",
    "# Read in the files\n",
    "prs <- read.table(file.path(data_dir, \"EUR.0.3.profile\"), header = TRUE)\n",
    "height <- read.table(file.path(data_dir, \"EUR.height\"), header = TRUE)\n",
    "sex <- read.table(file.path(data_dir, \"EUR.cov\"), header = TRUE)\n",
    "\n",
    "# Rename the sex\n",
    "sex$Sex <- as.factor(sex$Sex)\n",
    "levels(sex$Sex) <- c(\"Male\", \"Female\")\n",
    "\n",
    "# Merge the files\n",
    "dat <- merge(merge(prs, height), sex)\n",
    "\n",
    "# Start plotting\n",
    "plot <- ggplot(dat, aes(x = SCORE, y = Height, color = Sex)) +\n",
    "    geom_point() +\n",
    "    theme_classic() +\n",
    "    labs(x = \"Polygenic Score\", y = \"Height\")\n",
    "\n",
    "# Print the plot to the notebook\n",
    "print(plot)\n",
    "\n",
    "# Define the output directory\n",
    "output_dir <- \"output/figures\"\n",
    "\n",
    "# Ensure the output directory exists\n",
    "if (!dir.exists(output_dir)) {\n",
    "    dir.create(output_dir, recursive = TRUE)\n",
    "}\n",
    "\n",
    "# Save the plot to the output directory\n",
    "ggsave(file.path(output_dir, \"Height_vs_PRS.png\"), plot = plot, height = 7, width = 7)"
   ]
  },
  {
   "cell_type": "markdown",
   "id": "4b5bb5a5-08e0-4b85-8c6f-3508cae73f91",
   "metadata": {},
   "source": [
    "Programs such as PRSice-2 and bigsnpr include numerous options for plotting PRS results."
   ]
  },
  {
   "cell_type": "code",
   "execution_count": 38,
   "id": "7e191eb1-610b-4e48-8056-7d35a89b9d5d",
   "metadata": {},
   "outputs": [
    {
     "data": {
      "text/plain": [
       "R version 4.3.1 (2023-06-16)\n",
       "Platform: aarch64-apple-darwin20 (64-bit)\n",
       "Running under: macOS Sonoma 14.5\n",
       "\n",
       "Matrix products: default\n",
       "BLAS:   /Library/Frameworks/R.framework/Versions/4.3-arm64/Resources/lib/libRblas.0.dylib \n",
       "LAPACK: /Library/Frameworks/R.framework/Versions/4.3-arm64/Resources/lib/libRlapack.dylib;  LAPACK version 3.11.0\n",
       "\n",
       "locale:\n",
       "[1] en_US.UTF-8/en_US.UTF-8/en_US.UTF-8/C/en_US.UTF-8/en_US.UTF-8\n",
       "\n",
       "time zone: America/Chicago\n",
       "tzcode source: internal\n",
       "\n",
       "attached base packages:\n",
       "[1] parallel  stats     graphics  grDevices utils     datasets  methods  \n",
       "[8] base     \n",
       "\n",
       "other attached packages:\n",
       "[1] lassosum_0.4.5    ggplot2_3.5.1     googledrive_2.1.1 bigsnpr_1.12.2   \n",
       "[5] bigstatsr_1.5.12  magrittr_2.0.3    data.table_1.15.4 here_1.0.1       \n",
       "\n",
       "loaded via a namespace (and not attached):\n",
       " [1] utf8_1.2.4         generics_0.1.3     bigsparser_0.6.1   lattice_0.22-6    \n",
       " [5] digest_0.6.35      evaluate_0.23      grid_4.3.1         pbdZMQ_0.3-11     \n",
       " [9] iterators_1.0.14   fastmap_1.1.1      R.oo_1.26.0        foreach_1.5.2     \n",
       "[13] doParallel_1.0.17  rprojroot_2.0.4    jsonlite_1.8.8     Matrix_1.6-5      \n",
       "[17] R.utils_2.12.3     httr_1.4.7         purrr_1.0.2        fansi_1.0.6       \n",
       "[21] doRNG_1.8.6        scales_1.3.0       textshaping_0.3.7  codetools_0.2-20  \n",
       "[25] cli_3.6.2          rlang_1.1.3        crayon_1.5.2       R.methodsS3_1.8.2 \n",
       "[29] cowplot_1.1.3      munsell_0.5.1      base64enc_0.1-3    withr_3.0.0       \n",
       "[33] repr_1.1.7         flock_0.7          tools_4.3.1        uuid_1.2-0        \n",
       "[37] gargle_1.5.2       bigassertr_0.1.6   dplyr_1.1.4        colorspace_2.1-0  \n",
       "[41] rngtools_1.5.2     curl_5.2.1         IRdisplay_1.1      vctrs_0.6.5       \n",
       "[45] R6_2.5.1           lifecycle_1.0.4    bigparallelr_0.3.2 fs_1.6.4          \n",
       "[49] ragg_1.3.1         pkgconfig_2.0.3    pillar_1.9.0       gtable_0.3.5      \n",
       "[53] glue_1.7.0         Rcpp_1.0.12        systemfonts_1.0.6  tibble_3.2.1      \n",
       "[57] tidyselect_1.2.1   IRkernel_1.3.2     farver_2.1.1       htmltools_0.5.8.1 \n",
       "[61] labeling_0.4.3     compiler_4.3.1    "
      ]
     },
     "metadata": {},
     "output_type": "display_data"
    }
   ],
   "source": [
    "sessionInfo()"
   ]
  },
  {
   "cell_type": "code",
   "execution_count": null,
   "id": "b5ce15e3-0fbb-4181-832e-40dc7fc26ae6",
   "metadata": {},
   "outputs": [],
   "source": []
  }
 ],
 "metadata": {
  "kernelspec": {
   "display_name": "R",
   "language": "R",
   "name": "ir"
  },
  "language_info": {
   "codemirror_mode": "r",
   "file_extension": ".r",
   "mimetype": "text/x-r-source",
   "name": "R",
   "pygments_lexer": "r",
   "version": "4.3.1"
  }
 },
 "nbformat": 4,
 "nbformat_minor": 5
}
